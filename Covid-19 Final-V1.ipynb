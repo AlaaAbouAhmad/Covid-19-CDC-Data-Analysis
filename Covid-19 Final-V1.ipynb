{
 "cells": [
  {
   "cell_type": "markdown",
   "id": "5086e846",
   "metadata": {},
   "source": [
    "# Covid-19 CDC Data Analysis"
   ]
  },
  {
   "cell_type": "markdown",
   "id": "be4a71ee",
   "metadata": {},
   "source": [
    "## 1- Abstract\n",
    "This report presents an exploratory data analysis performed on data of some COVID-19 patients in the United States. The data was obtained from the Center for Disease Control and Prevention CDC. The goal of our analysis is to demonstrate the relationships between the patients' mortality rate and the following factors: age, race & ethnicity, sex, having medical conditions, patient hospitalization, and patient admission to the intensive care unit ICU. In order to exclude the effects of the newly innovated vaccines and the new strains of SARS-CoV-2, this report uses only the confirmed cases of the data that have been captured during the period [01/01/2020, 02/12/2020]. The report concludes that all the mentioned factors have significant effects on the patients' mortality rate."
   ]
  },
  {
   "cell_type": "markdown",
   "id": "f80d60ff",
   "metadata": {},
   "source": [
    "## 2- Introduction\n",
    "The Center for Disease Control and Prevention CDC shares important parts of a database called \"COVID-19 case surveillance\" with public. The part that will be used in this report is called __COVID-19 Case Surveillance Public Use Data__. \n",
    "The mentioned part contains 11 data elements (i.e. columns or features). \n",
    "The database is updated monthly, the 11 data elements of our data are:\n",
    "\n",
    "|Column Name |Description |Type\n",
    "|-----|-----|----- \n",
    "|cdc_report_dt |Date case was first reported to the CDC. Calculated date. This date was populated using the date at which a case record was first submitted to the database. If missing, then the report date entered on the case report form was used. If missing, then the date at which the case first appeared in the database was used. If none available, then left blank. |Date & Time\n",
    "|pos_spec_dt|Date of first positive specimen collection (Case Report Form)|Date & Time\n",
    "|onset_dt|Symptom onset date, if symptomatic (Case Report Form)|Date & Time\n",
    "|current_status|Case Status (Case Report Form: What is the current status of this person?) -- Values: Laboratory-confirmed case; Probable case;|Plain Text\n",
    "|sex|Sex (Case Report Form): Male; Female; Unknown; Other; Missing; NA|Plain Text\n",
    "|age_group|Age Group: 0 - 9 Years; 10 - 19 Years; 20 - 39 Years; 40 - 49 Years; 50 - 59 Years; 60 - 69 Years; 70 - 79 Years; 80 + Years;Unknown, Missing; NA; The age group categorizations were populated using the age value that was reported on the case report form. Date of birth was used to fill in missing/unknown age values using the difference in time between date of birth and onset date.|Plain Text\n",
    "|race_ethnicity_combined |Race and ethnicity (combined): American Indian/Alaska Native, Non-Hispanic; Asian, Non-Hispanic; Black, Non-Hispanic; Multiple/Other, Non-Hispanic; Native Hawaiian/Other Pacific Islander, Non-Hispanic; White, Non-Hispanic; Hispanic/Latino; Unknown; Missing; NA. If more than race was reported, race was categorized into multiple/other races.|Plain Text\n",
    "|hosp_yn|Hospitalization status (Case Report Form: Was the patient hospitalized?) -- Values: Yes; No; Unknown; Missing;|Plain Text\n",
    "|icu_yn|ICU admission status (Case Report Form: Was the patient admitted to an intensive care unit (ICU)?) -- Values: Yes; No; Unknown; Missing;|Plain Text\n",
    "|death_yn|Death status (Case Report Form: Did the patient die as a result of this illness?) -- Values: Yes; No; Unknown; Missing;|Plain Text\n",
    "|medcond_yn|Presence of underlying comorbidity or disease (Case Report Form: Pre-existing medical conditions?) -- Values: Yes; No; Unknown; Missing;|Plain Text\n",
    "\n",
    "For more details about the data kindly refer to [COVID-19 Case Surveillance Public Use Data](https://data.cdc.gov/Case-Surveillance/COVID-19-Case-Surveillance-Public-Use-Data/vbim-akqf).\n",
    "\n",
    "The goal of this report is, __for the confirmed cases__, to demonstrate the relationships between the \"non-datetime\" data elements of the data set and the __death_yn__ data element. \n",
    "As mentioned before, in order to avoid the effects of the invented vaccines and the new strains of SARS-CoV-2 on the relationships that are being studied, this report does not take into account the whole available data in  __COVID-19 Case Surveillance Public Use Data__ data set, but considers only the data of the period __[01/01/2020, 02/12/2020 ]__. \n",
    "\n",
    "The remaining sections of this report are organized as follows:\n",
    "The third section explains importing the data, the fourth section explains the data cleaning process, the fifth section contains the univariate analysis, the sixth section demonstrates the multivariate analysis, the seventh section tests some proposed hypotheses, the 8th section discusses the limitations of the data and the analysis, and the last section summarizes the results and talks about the future works.\n"
   ]
  },
  {
   "cell_type": "markdown",
   "id": "51423593",
   "metadata": {},
   "source": [
    "## 3- Importing The Data\n",
    "Firstly, the data have been downloaded from CDC in csv format, and after that the data have been imported into our python environment.\n",
    "\n",
    "P.S. As CDC updates the data monthly, we have to metion that the last update of the downloaded data was on __December 2, 2020__. Also we have to mention that the downloaded data contains about 8.4M rows and only 11 columns.\n",
    "\n",
    "importing the data:"
   ]
  },
  {
   "cell_type": "code",
   "execution_count": 128,
   "id": "6ab4dacc",
   "metadata": {},
   "outputs": [
    {
     "name": "stderr",
     "output_type": "stream",
     "text": [
      "c:\\users\\vs\\miniconda3\\envs\\d2l\\lib\\site-packages\\IPython\\core\\interactiveshell.py:3444: DtypeWarning: Columns (1) have mixed types.Specify dtype option on import or set low_memory=False.\n",
      "  exec(code_obj, self.user_global_ns, self.user_ns)\n"
     ]
    }
   ],
   "source": [
    "import pandas as pd\n",
    "df=pd.read_csv('C:/Users/vs/Documents/COVID-19_Case_Surveillance_Public_Use_Data.csv')"
   ]
  },
  {
   "cell_type": "code",
   "execution_count": 129,
   "id": "29d77a56",
   "metadata": {},
   "outputs": [
    {
     "data": {
      "text/plain": [
       "(8405079, 11)"
      ]
     },
     "execution_count": 129,
     "metadata": {},
     "output_type": "execute_result"
    }
   ],
   "source": [
    "df.shape"
   ]
  },
  {
   "cell_type": "code",
   "execution_count": 130,
   "id": "1347db39",
   "metadata": {},
   "outputs": [
    {
     "name": "stdout",
     "output_type": "stream",
     "text": [
      "<class 'pandas.core.frame.DataFrame'>\n",
      "RangeIndex: 8405079 entries, 0 to 8405078\n",
      "Data columns (total 11 columns):\n",
      " #   Column                         Non-Null Count    Dtype \n",
      "---  ------                         --------------    ----- \n",
      " 0   cdc_report_dt                  8405079 non-null  object\n",
      " 1   pos_spec_dt                    2870789 non-null  object\n",
      " 2   onset_dt                       4395957 non-null  object\n",
      " 3   current_status                 8405079 non-null  object\n",
      " 4   sex                            8405061 non-null  object\n",
      " 5   age_group                      8404990 non-null  object\n",
      " 6   Race and ethnicity (combined)  8405072 non-null  object\n",
      " 7   hosp_yn                        8405079 non-null  object\n",
      " 8   icu_yn                         8405079 non-null  object\n",
      " 9   death_yn                       8405079 non-null  object\n",
      " 10  medcond_yn                     8405079 non-null  object\n",
      "dtypes: object(11)\n",
      "memory usage: 705.4+ MB\n",
      "None\n"
     ]
    }
   ],
   "source": [
    "print(df.info( show_counts=True))"
   ]
  },
  {
   "cell_type": "code",
   "execution_count": 131,
   "id": "b2909dec",
   "metadata": {},
   "outputs": [
    {
     "data": {
      "text/plain": [
       "cdc_report_dt                    321\n",
       "pos_spec_dt                      313\n",
       "onset_dt                         338\n",
       "current_status                     2\n",
       "sex                                5\n",
       "age_group                         10\n",
       "Race and ethnicity (combined)      9\n",
       "hosp_yn                            4\n",
       "icu_yn                             4\n",
       "death_yn                           4\n",
       "medcond_yn                         4\n",
       "dtype: int64"
      ]
     },
     "execution_count": 131,
     "metadata": {},
     "output_type": "execute_result"
    }
   ],
   "source": [
    "#number of unique values in each column\n",
    "df.nunique()"
   ]
  },
  {
   "cell_type": "code",
   "execution_count": 132,
   "id": "80a19c3a",
   "metadata": {},
   "outputs": [
    {
     "data": {
      "text/html": [
       "<div>\n",
       "<style scoped>\n",
       "    .dataframe tbody tr th:only-of-type {\n",
       "        vertical-align: middle;\n",
       "    }\n",
       "\n",
       "    .dataframe tbody tr th {\n",
       "        vertical-align: top;\n",
       "    }\n",
       "\n",
       "    .dataframe thead th {\n",
       "        text-align: right;\n",
       "    }\n",
       "</style>\n",
       "<table border=\"1\" class=\"dataframe\">\n",
       "  <thead>\n",
       "    <tr style=\"text-align: right;\">\n",
       "      <th></th>\n",
       "      <th>cdc_report_dt</th>\n",
       "      <th>pos_spec_dt</th>\n",
       "      <th>onset_dt</th>\n",
       "      <th>current_status</th>\n",
       "      <th>sex</th>\n",
       "      <th>age_group</th>\n",
       "      <th>Race and ethnicity (combined)</th>\n",
       "      <th>hosp_yn</th>\n",
       "      <th>icu_yn</th>\n",
       "      <th>death_yn</th>\n",
       "      <th>medcond_yn</th>\n",
       "    </tr>\n",
       "  </thead>\n",
       "  <tbody>\n",
       "    <tr>\n",
       "      <th>0</th>\n",
       "      <td>2020/11/10</td>\n",
       "      <td>2020/11/10</td>\n",
       "      <td>NaN</td>\n",
       "      <td>Laboratory-confirmed case</td>\n",
       "      <td>Male</td>\n",
       "      <td>10 - 19 Years</td>\n",
       "      <td>Black, Non-Hispanic</td>\n",
       "      <td>No</td>\n",
       "      <td>Unknown</td>\n",
       "      <td>No</td>\n",
       "      <td>No</td>\n",
       "    </tr>\n",
       "    <tr>\n",
       "      <th>1</th>\n",
       "      <td>2020/11/14</td>\n",
       "      <td>2020/11/10</td>\n",
       "      <td>2020/11/10</td>\n",
       "      <td>Laboratory-confirmed case</td>\n",
       "      <td>Male</td>\n",
       "      <td>10 - 19 Years</td>\n",
       "      <td>Black, Non-Hispanic</td>\n",
       "      <td>No</td>\n",
       "      <td>No</td>\n",
       "      <td>No</td>\n",
       "      <td>No</td>\n",
       "    </tr>\n",
       "    <tr>\n",
       "      <th>2</th>\n",
       "      <td>2020/11/19</td>\n",
       "      <td>2020/11/10</td>\n",
       "      <td>2020/11/09</td>\n",
       "      <td>Laboratory-confirmed case</td>\n",
       "      <td>Male</td>\n",
       "      <td>10 - 19 Years</td>\n",
       "      <td>Black, Non-Hispanic</td>\n",
       "      <td>No</td>\n",
       "      <td>No</td>\n",
       "      <td>No</td>\n",
       "      <td>No</td>\n",
       "    </tr>\n",
       "    <tr>\n",
       "      <th>3</th>\n",
       "      <td>2020/11/14</td>\n",
       "      <td>2020/11/10</td>\n",
       "      <td>NaN</td>\n",
       "      <td>Laboratory-confirmed case</td>\n",
       "      <td>Male</td>\n",
       "      <td>10 - 19 Years</td>\n",
       "      <td>Black, Non-Hispanic</td>\n",
       "      <td>Missing</td>\n",
       "      <td>Missing</td>\n",
       "      <td>No</td>\n",
       "      <td>Missing</td>\n",
       "    </tr>\n",
       "    <tr>\n",
       "      <th>4</th>\n",
       "      <td>2020/11/13</td>\n",
       "      <td>2020/11/10</td>\n",
       "      <td>2020/11/10</td>\n",
       "      <td>Laboratory-confirmed case</td>\n",
       "      <td>Male</td>\n",
       "      <td>10 - 19 Years</td>\n",
       "      <td>Black, Non-Hispanic</td>\n",
       "      <td>No</td>\n",
       "      <td>No</td>\n",
       "      <td>No</td>\n",
       "      <td>Yes</td>\n",
       "    </tr>\n",
       "  </tbody>\n",
       "</table>\n",
       "</div>"
      ],
      "text/plain": [
       "  cdc_report_dt pos_spec_dt    onset_dt             current_status   sex  \\\n",
       "0    2020/11/10  2020/11/10         NaN  Laboratory-confirmed case  Male   \n",
       "1    2020/11/14  2020/11/10  2020/11/10  Laboratory-confirmed case  Male   \n",
       "2    2020/11/19  2020/11/10  2020/11/09  Laboratory-confirmed case  Male   \n",
       "3    2020/11/14  2020/11/10         NaN  Laboratory-confirmed case  Male   \n",
       "4    2020/11/13  2020/11/10  2020/11/10  Laboratory-confirmed case  Male   \n",
       "\n",
       "       age_group Race and ethnicity (combined)  hosp_yn   icu_yn death_yn  \\\n",
       "0  10 - 19 Years           Black, Non-Hispanic       No  Unknown       No   \n",
       "1  10 - 19 Years           Black, Non-Hispanic       No       No       No   \n",
       "2  10 - 19 Years           Black, Non-Hispanic       No       No       No   \n",
       "3  10 - 19 Years           Black, Non-Hispanic  Missing  Missing       No   \n",
       "4  10 - 19 Years           Black, Non-Hispanic       No       No       No   \n",
       "\n",
       "  medcond_yn  \n",
       "0         No  \n",
       "1         No  \n",
       "2         No  \n",
       "3    Missing  \n",
       "4        Yes  "
      ]
     },
     "execution_count": 132,
     "metadata": {},
     "output_type": "execute_result"
    }
   ],
   "source": [
    "df.head()"
   ]
  },
  {
   "cell_type": "markdown",
   "id": "5922b9e4",
   "metadata": {},
   "source": [
    "## 4- Data Cleaning\n",
    "First of all, we have to keep only the labrotory confirmed cases, and delete all the other cases:"
   ]
  },
  {
   "cell_type": "code",
   "execution_count": 133,
   "id": "b39ed715",
   "metadata": {
    "scrolled": true
   },
   "outputs": [
    {
     "name": "stdout",
     "output_type": "stream",
     "text": [
      "<class 'pandas.core.frame.DataFrame'>\n",
      "Int64Index: 7910118 entries, 0 to 8405078\n",
      "Data columns (total 11 columns):\n",
      " #   Column                         Non-Null Count    Dtype \n",
      "---  ------                         --------------    ----- \n",
      " 0   cdc_report_dt                  7910118 non-null  object\n",
      " 1   pos_spec_dt                    2704693 non-null  object\n",
      " 2   onset_dt                       4194612 non-null  object\n",
      " 3   current_status                 7910118 non-null  object\n",
      " 4   sex                            7910101 non-null  object\n",
      " 5   age_group                      7910037 non-null  object\n",
      " 6   Race and ethnicity (combined)  7910111 non-null  object\n",
      " 7   hosp_yn                        7910118 non-null  object\n",
      " 8   icu_yn                         7910118 non-null  object\n",
      " 9   death_yn                       7910118 non-null  object\n",
      " 10  medcond_yn                     7910118 non-null  object\n",
      "dtypes: object(11)\n",
      "memory usage: 724.2+ MB\n",
      "None\n"
     ]
    }
   ],
   "source": [
    "#ignore all the rows that do not contain \"Laboratory-confirmed case\" value in the column \"current_status\"\n",
    "df=df.loc[df['current_status'] == 'Laboratory-confirmed case']\n",
    "print(df.info( show_counts=True))"
   ]
  },
  {
   "cell_type": "markdown",
   "id": "ec4cfab2",
   "metadata": {},
   "source": [
    "From the results above, we can see that we have alot of confirmed cases without a first positive specimen date. Such a data could be inaccurate,\n",
    "so let us ignore this data"
   ]
  },
  {
   "cell_type": "code",
   "execution_count": 134,
   "id": "92b695f8",
   "metadata": {},
   "outputs": [
    {
     "name": "stdout",
     "output_type": "stream",
     "text": [
      "<class 'pandas.core.frame.DataFrame'>\n",
      "Int64Index: 2704693 entries, 0 to 7494730\n",
      "Data columns (total 11 columns):\n",
      " #   Column                         Non-Null Count    Dtype \n",
      "---  ------                         --------------    ----- \n",
      " 0   cdc_report_dt                  2704693 non-null  object\n",
      " 1   pos_spec_dt                    2704693 non-null  object\n",
      " 2   onset_dt                       1359098 non-null  object\n",
      " 3   current_status                 2704693 non-null  object\n",
      " 4   sex                            2704683 non-null  object\n",
      " 5   age_group                      2704639 non-null  object\n",
      " 6   Race and ethnicity (combined)  2704687 non-null  object\n",
      " 7   hosp_yn                        2704693 non-null  object\n",
      " 8   icu_yn                         2704693 non-null  object\n",
      " 9   death_yn                       2704693 non-null  object\n",
      " 10  medcond_yn                     2704693 non-null  object\n",
      "dtypes: object(11)\n",
      "memory usage: 247.6+ MB\n",
      "None\n"
     ]
    }
   ],
   "source": [
    "#ignore all the rows that contain a null value in the column \"pos_spec_dt\"\n",
    "df = df[df['pos_spec_dt'].notna()]\n",
    "print(df.info( show_counts=True))"
   ]
  },
  {
   "cell_type": "markdown",
   "id": "2770a240",
   "metadata": {},
   "source": [
    "Now our data look better, but we still need to ignore all the date columns, and the current_status column as we are not concerned about them anymore:"
   ]
  },
  {
   "cell_type": "code",
   "execution_count": 135,
   "id": "f97a7132",
   "metadata": {},
   "outputs": [
    {
     "name": "stdout",
     "output_type": "stream",
     "text": [
      "<class 'pandas.core.frame.DataFrame'>\n",
      "Int64Index: 2704693 entries, 0 to 7494730\n",
      "Data columns (total 7 columns):\n",
      " #   Column                         Non-Null Count    Dtype \n",
      "---  ------                         --------------    ----- \n",
      " 0   sex                            2704683 non-null  object\n",
      " 1   age_group                      2704639 non-null  object\n",
      " 2   Race and ethnicity (combined)  2704687 non-null  object\n",
      " 3   hosp_yn                        2704693 non-null  object\n",
      " 4   icu_yn                         2704693 non-null  object\n",
      " 5   death_yn                       2704693 non-null  object\n",
      " 6   medcond_yn                     2704693 non-null  object\n",
      "dtypes: object(7)\n",
      "memory usage: 165.1+ MB\n",
      "None\n"
     ]
    }
   ],
   "source": [
    "#drop the first four columns.\n",
    "df.drop(df.columns[[0, 1, 2, 3]], axis=1, inplace=True)\n",
    "print(df.info( show_counts=True))"
   ]
  },
  {
   "cell_type": "markdown",
   "id": "23d102b6",
   "metadata": {},
   "source": [
    "From the results above, we can notice that almost all the remaining data cells don't contain null values, so we can remove all the rows that contain null values."
   ]
  },
  {
   "cell_type": "code",
   "execution_count": 136,
   "id": "da980293",
   "metadata": {},
   "outputs": [
    {
     "name": "stdout",
     "output_type": "stream",
     "text": [
      "<class 'pandas.core.frame.DataFrame'>\n",
      "Int64Index: 2704639 entries, 0 to 7494730\n",
      "Data columns (total 7 columns):\n",
      " #   Column                         Non-Null Count    Dtype \n",
      "---  ------                         --------------    ----- \n",
      " 0   sex                            2704639 non-null  object\n",
      " 1   age_group                      2704639 non-null  object\n",
      " 2   Race and ethnicity (combined)  2704639 non-null  object\n",
      " 3   hosp_yn                        2704639 non-null  object\n",
      " 4   icu_yn                         2704639 non-null  object\n",
      " 5   death_yn                       2704639 non-null  object\n",
      " 6   medcond_yn                     2704639 non-null  object\n",
      "dtypes: object(7)\n",
      "memory usage: 165.1+ MB\n",
      "None\n"
     ]
    }
   ],
   "source": [
    "df.dropna(inplace=True)\n",
    "print(df.info( show_counts=True))"
   ]
  },
  {
   "cell_type": "markdown",
   "id": "aa1d050e",
   "metadata": {},
   "source": [
    "From the results above, the data seems to be consistent, but we still have some issues as all the remaining rows still contain values like \"Unknown\" or \"Missing\". And as those values might be useless for our purpose, we can delete them.\n",
    "\n",
    "P.S. Deleting these values may bias our sample, but this report assumes that the cases that are fully recorded, without null, missing or unknown values are more accurate. Moreover, deleting these values simplifies the analysis. Especially when we have such a volume of data that requires huge computational capabilities. "
   ]
  },
  {
   "cell_type": "code",
   "execution_count": 137,
   "id": "62d41843",
   "metadata": {},
   "outputs": [
    {
     "name": "stdout",
     "output_type": "stream",
     "text": [
      "<class 'pandas.core.frame.DataFrame'>\n",
      "Int64Index: 324387 entries, 1 to 7494730\n",
      "Data columns (total 7 columns):\n",
      " #   Column                         Non-Null Count   Dtype \n",
      "---  ------                         --------------   ----- \n",
      " 0   sex                            324387 non-null  object\n",
      " 1   age_group                      324387 non-null  object\n",
      " 2   Race and ethnicity (combined)  324387 non-null  object\n",
      " 3   hosp_yn                        324387 non-null  object\n",
      " 4   icu_yn                         324387 non-null  object\n",
      " 5   death_yn                       324387 non-null  object\n",
      " 6   medcond_yn                     324387 non-null  object\n",
      "dtypes: object(7)\n",
      "memory usage: 19.8+ MB\n",
      "None\n"
     ]
    },
    {
     "data": {
      "text/plain": [
       "sex                              3\n",
       "age_group                        9\n",
       "Race and ethnicity (combined)    7\n",
       "hosp_yn                          2\n",
       "icu_yn                           2\n",
       "death_yn                         2\n",
       "medcond_yn                       2\n",
       "dtype: int64"
      ]
     },
     "execution_count": 137,
     "metadata": {},
     "output_type": "execute_result"
    }
   ],
   "source": [
    "df=df.loc[df['sex'] != 'Unknown']\n",
    "df=df.loc[df['sex'] != 'Missing']\n",
    "#ignore all the rows that contian \"Unknown\" or \"Missingvalue in the column \"age_group\"\n",
    "df=df.loc[df['age_group'] != 'Unknown']\n",
    "df=df.loc[df['age_group'] != 'Missing']\n",
    "#ignore all the rows that contian \"Unknown\" or \"Missing\" value in the column \"Race and ethnicity (combined)\"\n",
    "df=df.loc[df['Race and ethnicity (combined)'] != 'Unknown']\n",
    "df=df.loc[df['Race and ethnicity (combined)'] != 'Missing']\n",
    "#ignore all the rows that contian \"Unknown\" or \"Missing\" value in the column \"hosp_yn\"\n",
    "df=df.loc[df['hosp_yn'] != 'Unknown']\n",
    "df=df.loc[df['hosp_yn'] != 'Missing']\n",
    "#ignore all the rows that contian \"Unknown\" or \"Missing\" value in the column \"icu_yn\"\n",
    "df=df.loc[df['icu_yn'] != 'Unknown']\n",
    "df=df.loc[df['icu_yn'] != 'Missing']\n",
    "#ignore all the rows that contian \"Unknown\" or \"Missing\" value in the column \"death_yn\"\n",
    "df=df.loc[df['death_yn'] != 'Unknown']\n",
    "df=df.loc[df['death_yn'] != 'Missing']\n",
    "#ignore all the rows that contian \"Unknown\" or \"Missing\" value in the column \"medcond_yn\"\n",
    "df=df.loc[df['medcond_yn'] != 'Unknown']\n",
    "df=df.loc[df['medcond_yn'] != 'Missing']\n",
    "print(df.info( show_counts=True))\n",
    "#print number of unique values in each column\n",
    "df.nunique()"
   ]
  },
  {
   "cell_type": "markdown",
   "id": "88501251",
   "metadata": {},
   "source": [
    "The remaining data are now clean, and although, the data size has been shrinked from 8.4Mx11 to 324387x7, the data still big enough to help us in our pupose in this report."
   ]
  },
  {
   "cell_type": "markdown",
   "id": "c65115cb",
   "metadata": {},
   "source": [
    "## 5- Univariate Analysis\n",
    "Now each feature of the remaining features (columns) will be analyzed independently. "
   ]
  },
  {
   "cell_type": "markdown",
   "id": "8c2209d5",
   "metadata": {},
   "source": [
    "### 5.1- sex Feature:"
   ]
  },
  {
   "cell_type": "markdown",
   "id": "555312e8",
   "metadata": {},
   "source": [
    "Firstly, let us describe the distribution of the values"
   ]
  },
  {
   "cell_type": "code",
   "execution_count": 138,
   "id": "9fa0db22",
   "metadata": {},
   "outputs": [
    {
     "data": {
      "text/plain": [
       "Female    171867\n",
       "Male      152477\n",
       "Other         43\n",
       "Name: sex, dtype: int64"
      ]
     },
     "execution_count": 138,
     "metadata": {},
     "output_type": "execute_result"
    }
   ],
   "source": [
    "df['sex'].value_counts()"
   ]
  },
  {
   "cell_type": "code",
   "execution_count": 139,
   "id": "cdb3b891",
   "metadata": {},
   "outputs": [
    {
     "data": {
      "image/png": "[encoded data removed]",
      "text/plain": [
       "<Figure size 432x288 with 1 Axes>"
      ]
     },
     "metadata": {
      "needs_background": "light"
     },
     "output_type": "display_data"
    }
   ],
   "source": [
    "import matplotlib.pyplot as plt\n",
    "df['sex'].value_counts().plot(kind='bar')\n",
    "plt.ylabel('Frequency')\n",
    "plt.show()"
   ]
  },
  {
   "cell_type": "code",
   "execution_count": 140,
   "id": "d5c6c519",
   "metadata": {},
   "outputs": [
    {
     "data": {
      "image/png": "[encoded data removed]",
      "text/plain": [
       "<Figure size 432x288 with 1 Axes>"
      ]
     },
     "metadata": {},
     "output_type": "display_data"
    }
   ],
   "source": [
    "df['sex'].value_counts().plot(kind='pie',autopct='%1.2f%%')\n",
    "plt.title('sex Percentages')\n",
    "plt.legend()\n",
    "plt.show()"
   ]
  },
  {
   "cell_type": "markdown",
   "id": "0b980dc9",
   "metadata": {},
   "source": [
    "We can see that the sex feature is imbalanced (i.e. there is a considerable difference in the counts of the Females and the Males  in our sample). But this difference can be caused by a sampling error or bias, in addition to that we have to know that male/female ratio in USA is 0.96 [wikipedia](https://en.wikipedia.org/wiki/Demographics_of_the_United_States). Also maybe the females are more likely to be infected with covid-19."
   ]
  },
  {
   "cell_type": "markdown",
   "id": "8d6654e9",
   "metadata": {},
   "source": [
    "### 5.2-  age_group Feature"
   ]
  },
  {
   "cell_type": "markdown",
   "id": "858e4a6d",
   "metadata": {},
   "source": [
    "The distribution of the age_group values is described in the figure below:"
   ]
  },
  {
   "cell_type": "code",
   "execution_count": 141,
   "id": "8c602c3c",
   "metadata": {},
   "outputs": [
    {
     "data": {
      "text/plain": [
       "0 - 9 Years      10418\n",
       "10 - 19 Years    30490\n",
       "20 - 29 Years    56471\n",
       "30 - 39 Years    48026\n",
       "40 - 49 Years    47768\n",
       "50 - 59 Years    49364\n",
       "60 - 69 Years    38966\n",
       "70 - 79 Years    24499\n",
       "80+ Years        18385\n",
       "Name: age_group, dtype: int64"
      ]
     },
     "execution_count": 141,
     "metadata": {},
     "output_type": "execute_result"
    }
   ],
   "source": [
    "df['age_group'].value_counts().sort_index()"
   ]
  },
  {
   "cell_type": "code",
   "execution_count": 142,
   "id": "0af5b08f",
   "metadata": {},
   "outputs": [
    {
     "data": {
      "image/png": "[encoded data removed]",
      "text/plain": [
       "<Figure size 432x288 with 1 Axes>"
      ]
     },
     "metadata": {
      "needs_background": "light"
     },
     "output_type": "display_data"
    }
   ],
   "source": [
    "#Histogram\n",
    "df['age_group'].value_counts().sort_index().plot(kind='bar')\n",
    "plt.xlabel('age_group')\n",
    "plt.ylabel(\"frequency\")\n",
    "plt.show()"
   ]
  },
  {
   "cell_type": "markdown",
   "id": "1b61f879",
   "metadata": {},
   "source": [
    "The distribution above looks to be a normal distribution and it is not similar to the USA population distribution by age which is clarified [here](https://en.wikipedia.org/wiki/Demographics_of_the_United_States#/media/File:USA2020dec1.png). The difference seems to be considerable especially for both the children and the old people, because the frequency of the children in our sample seems to be lower while the frequency of the old people seems to be higher. Many reasons might have caused the mentioned effect, maybe because the old people are more likely to be infected with covid-19, or because they are more likely to have serious symptoms, so they have to go to hospital which means  that their cases are more likely to be confirmed, i.e. they are more likely to appear in our sample. Also maybe there are other reasons like sampling error or sampling bias.\n"
   ]
  },
  {
   "cell_type": "markdown",
   "id": "7dd8223a",
   "metadata": {},
   "source": [
    "### 5.3- race and ethnicity (combined) Feature"
   ]
  },
  {
   "cell_type": "markdown",
   "id": "464348e1",
   "metadata": {},
   "source": [
    "The distribution of the age_group values is described in the figure below:"
   ]
  },
  {
   "cell_type": "code",
   "execution_count": 143,
   "id": "f618254c",
   "metadata": {},
   "outputs": [
    {
     "data": {
      "text/plain": [
       "White, Non-Hispanic                                     180088\n",
       "Hispanic/Latino                                          83114\n",
       "Black, Non-Hispanic                                      37799\n",
       "Asian, Non-Hispanic                                      10371\n",
       "Multiple/Other, Non-Hispanic                              9131\n",
       "Native Hawaiian/Other Pacific Islander, Non-Hispanic      2479\n",
       "American Indian/Alaska Native, Non-Hispanic               1405\n",
       "Name: Race and ethnicity (combined), dtype: int64"
      ]
     },
     "execution_count": 143,
     "metadata": {},
     "output_type": "execute_result"
    }
   ],
   "source": [
    "df['Race and ethnicity (combined)'].value_counts()"
   ]
  },
  {
   "cell_type": "code",
   "execution_count": 144,
   "id": "ae6c4dbc",
   "metadata": {},
   "outputs": [
    {
     "data": {
      "image/png": "[encoded data removed]",
      "text/plain": [
       "<Figure size 432x288 with 1 Axes>"
      ]
     },
     "metadata": {
      "needs_background": "light"
     },
     "output_type": "display_data"
    }
   ],
   "source": [
    "df['Race and ethnicity (combined)'].value_counts().plot(kind='bar')\n",
    "plt.ylabel('Frequency')\n",
    "plt.show()"
   ]
  },
  {
   "cell_type": "markdown",
   "id": "dda94806",
   "metadata": {},
   "source": [
    "Actually we don't have exact information about the distribution of the races and ethnicity in USA. but this [link](https://statisticalatlas.com/United-States/Race-and-Ethnicity) can tell us some information. From the link we can notice that the biggest three parts of the United States population are: the white people(62%), the Hispanic people (~17%) and the black people (12.6%). Let us check these percentages in our sample."
   ]
  },
  {
   "cell_type": "code",
   "execution_count": 145,
   "id": "50e2a98e",
   "metadata": {},
   "outputs": [
    {
     "data": {
      "image/png": "[encoded data removed]",
      "text/plain": [
       "<Figure size 1440x720 with 2 Axes>"
      ]
     },
     "metadata": {
      "needs_background": "light"
     },
     "output_type": "display_data"
    }
   ],
   "source": [
    "#Here we will show the percentage of each combination of races and ethnicities\n",
    "plt.subplots(1,2,figsize=(20,10))\n",
    "plt.subplot(1, 2, 1)\n",
    "(100*df['Race and ethnicity (combined)'].value_counts()/len(df['Race and ethnicity (combined)'])).plot(kind='bar')\n",
    "plt.xlabel('Race and Ethnicity')\n",
    "plt.ylabel('percentage')\n",
    "plt.title('Sample Percentages Bar Chart')\n",
    "plt.subplot(1, 2, 2)\n",
    "df['Race and ethnicity (combined)'].value_counts().plot(kind='pie',autopct='%1.2f%%')\n",
    "plt.title('Sample Percentages Pie Chart')\n",
    "plt.suptitle('Sample Percentages')\n",
    "plt.show()"
   ]
  },
  {
   "cell_type": "markdown",
   "id": "0f96e000",
   "metadata": {},
   "source": [
    "It can be easily noticed that the sample contains more Hispanic/Latino people (almost 26%) than the Hispanic people in the American population, and it contains less white people (almost 56%) than the population, but it contains almost the same percentage of the black people (almost 12%).Many reasons might be responsible for the mentioned effect, for example: sampling bias, sampling error, measurement error (i.e. bad classification of the people,or for example, maybe the Hispanic/Latino category is different from the Hispanic category that mentioned [here](https://statisticalatlas.com/United-States/Race-and-Ethnicity)  ), and maybe the Hispanic/Latino people are more likely and the White Non-Hispanic people are less likely to be infected with covide-12 or get serious symptoms."
   ]
  },
  {
   "cell_type": "markdown",
   "id": "27b7e1cc",
   "metadata": {},
   "source": [
    "### 5.4- hosp_yn Feature "
   ]
  },
  {
   "cell_type": "code",
   "execution_count": 146,
   "id": "ac8a3640",
   "metadata": {},
   "outputs": [
    {
     "data": {
      "text/plain": [
       "No     266854\n",
       "Yes     57533\n",
       "Name: hosp_yn, dtype: int64"
      ]
     },
     "execution_count": 146,
     "metadata": {},
     "output_type": "execute_result"
    }
   ],
   "source": [
    "df['hosp_yn'].value_counts()"
   ]
  },
  {
   "cell_type": "code",
   "execution_count": 147,
   "id": "d2cb7bee",
   "metadata": {},
   "outputs": [
    {
     "data": {
      "text/plain": [
       "No     82.264086\n",
       "Yes    17.735914\n",
       "Name: hosp_yn, dtype: float64"
      ]
     },
     "execution_count": 147,
     "metadata": {},
     "output_type": "execute_result"
    }
   ],
   "source": [
    "#Here we will show the percentages\n",
    "(100*df['hosp_yn'].value_counts()/len(df['hosp_yn']))"
   ]
  },
  {
   "cell_type": "code",
   "execution_count": 148,
   "id": "ff980de1",
   "metadata": {},
   "outputs": [
    {
     "data": {
      "image/png": "[encoded data removed]",
      "text/plain": [
       "<Figure size 432x288 with 1 Axes>"
      ]
     },
     "metadata": {
      "needs_background": "light"
     },
     "output_type": "display_data"
    }
   ],
   "source": [
    "df['hosp_yn'].value_counts().plot(kind='bar')\n",
    "plt.xlabel('hosp_yn')\n",
    "plt.ylabel('frequency')\n",
    "plt.show()"
   ]
  },
  {
   "cell_type": "code",
   "execution_count": 149,
   "id": "df65570a",
   "metadata": {},
   "outputs": [
    {
     "data": {
      "image/png": "[encoded data removed]",
      "text/plain": [
       "<Figure size 432x288 with 1 Axes>"
      ]
     },
     "metadata": {},
     "output_type": "display_data"
    }
   ],
   "source": [
    "#Here we will show the percentages\n",
    "#(100*df['hosp_yn'].value_counts()/len(df['hosp_yn'])).plot(kind='bar',title=\"hosp_yn Sample Percentages\")\n",
    "df['hosp_yn'].value_counts().plot(kind='pie',autopct='%1.2f%%')\n",
    "plt.title('hosp_yn Percentages')\n",
    "plt.legend()\n",
    "plt.show()"
   ]
  },
  {
   "cell_type": "markdown",
   "id": "46a715af",
   "metadata": {},
   "source": [
    "From the results above we can see that almost only about 17.7% of the patients of the sample were hospitalized."
   ]
  },
  {
   "cell_type": "markdown",
   "id": "b76c2dd9",
   "metadata": {},
   "source": [
    "### 5.5- icu_yn Feature "
   ]
  },
  {
   "cell_type": "markdown",
   "id": "9036dfda",
   "metadata": {},
   "source": [
    "The distribution of the values is described in the figure below:"
   ]
  },
  {
   "cell_type": "code",
   "execution_count": 150,
   "id": "8caacf5e",
   "metadata": {},
   "outputs": [
    {
     "data": {
      "text/plain": [
       "No     303958\n",
       "Yes     20429\n",
       "Name: icu_yn, dtype: int64"
      ]
     },
     "execution_count": 150,
     "metadata": {},
     "output_type": "execute_result"
    }
   ],
   "source": [
    "df['icu_yn'].value_counts()"
   ]
  },
  {
   "cell_type": "code",
   "execution_count": 151,
   "id": "bb328052",
   "metadata": {},
   "outputs": [
    {
     "data": {
      "text/plain": [
       "No     93.702275\n",
       "Yes     6.297725\n",
       "Name: icu_yn, dtype: float64"
      ]
     },
     "execution_count": 151,
     "metadata": {},
     "output_type": "execute_result"
    }
   ],
   "source": [
    "#Here we will show the percentages\n",
    "(100*df['icu_yn'].value_counts()/len(df['icu_yn']))"
   ]
  },
  {
   "cell_type": "code",
   "execution_count": 152,
   "id": "e12d91d9",
   "metadata": {},
   "outputs": [
    {
     "data": {
      "image/png": "[encoded data removed]",
      "text/plain": [
       "<Figure size 432x288 with 1 Axes>"
      ]
     },
     "metadata": {
      "needs_background": "light"
     },
     "output_type": "display_data"
    }
   ],
   "source": [
    "df['icu_yn'].value_counts().plot(kind='bar')\n",
    "plt.xlabel('icu_yn')\n",
    "plt.ylabel('frequency')\n",
    "plt.show()"
   ]
  },
  {
   "cell_type": "code",
   "execution_count": 153,
   "id": "df9c79d1",
   "metadata": {},
   "outputs": [
    {
     "data": {
      "image/png": "[encoded data removed]",
      "text/plain": [
       "<Figure size 432x288 with 1 Axes>"
      ]
     },
     "metadata": {},
     "output_type": "display_data"
    }
   ],
   "source": [
    "#Here we will plot the percentages\n",
    "#(100*df['icu_yn'].value_counts()/len(df['icu_yn'])).plot(kind='bar',title=\"icu_yn Sample Percentages\")\n",
    "df['icu_yn'].value_counts().plot(kind='pie',autopct='%1.2f%%')\n",
    "plt.title('icu_yn Percentages')\n",
    "plt.legend()\n",
    "plt.show()"
   ]
  },
  {
   "cell_type": "markdown",
   "id": "ce6b07a1",
   "metadata": {},
   "source": [
    "The results above show that almost about 6.3% of the sample patients were ICU admitted."
   ]
  },
  {
   "cell_type": "markdown",
   "id": "6b639d17",
   "metadata": {},
   "source": [
    "### 5.6- death_yn Feature"
   ]
  },
  {
   "cell_type": "code",
   "execution_count": 154,
   "id": "d88a1ad9",
   "metadata": {},
   "outputs": [
    {
     "data": {
      "text/plain": [
       "No     305848\n",
       "Yes     18539\n",
       "Name: death_yn, dtype: int64"
      ]
     },
     "execution_count": 154,
     "metadata": {},
     "output_type": "execute_result"
    }
   ],
   "source": [
    "df['death_yn'].value_counts()"
   ]
  },
  {
   "cell_type": "code",
   "execution_count": 155,
   "id": "aa09be92",
   "metadata": {},
   "outputs": [
    {
     "data": {
      "text/plain": [
       "No     94.284913\n",
       "Yes     5.715087\n",
       "Name: death_yn, dtype: float64"
      ]
     },
     "execution_count": 155,
     "metadata": {},
     "output_type": "execute_result"
    }
   ],
   "source": [
    "#Here we will show the percentages\n",
    "(100*df['death_yn'].value_counts()/len(df['death_yn']))"
   ]
  },
  {
   "cell_type": "code",
   "execution_count": 156,
   "id": "fd28848d",
   "metadata": {},
   "outputs": [
    {
     "data": {
      "image/png": "[encoded data removed]",
      "text/plain": [
       "<Figure size 432x288 with 1 Axes>"
      ]
     },
     "metadata": {
      "needs_background": "light"
     },
     "output_type": "display_data"
    }
   ],
   "source": [
    "df['death_yn'].value_counts().plot(kind='bar')\n",
    "plt.xlabel('death_yn')\n",
    "plt.ylabel('frequency')\n",
    "plt.show()"
   ]
  },
  {
   "cell_type": "code",
   "execution_count": 157,
   "id": "20573e89",
   "metadata": {},
   "outputs": [
    {
     "data": {
      "image/png": "[encoded data removed]",
      "text/plain": [
       "<Figure size 432x288 with 1 Axes>"
      ]
     },
     "metadata": {},
     "output_type": "display_data"
    }
   ],
   "source": [
    "#Here we will plot the percentages\n",
    "#(100*df['death_yn'].value_counts()/len(df['death_yn'])).plot(kind='bar',title=\"death_yn Sample Percentages\")\n",
    "df['death_yn'].value_counts().plot(kind='pie',autopct='%1.2f%%')\n",
    "plt.title('death_yn Percentages')\n",
    "plt.legend()\n",
    "plt.show()"
   ]
  },
  {
   "cell_type": "markdown",
   "id": "d42a1c52",
   "metadata": {},
   "source": [
    "The results above show that the mortality rate of the patients in our sample is 5.72%."
   ]
  },
  {
   "cell_type": "markdown",
   "id": "c1480fd1",
   "metadata": {},
   "source": [
    "### 5.7- medcond_yn Feature"
   ]
  },
  {
   "cell_type": "code",
   "execution_count": 158,
   "id": "a08ab04e",
   "metadata": {},
   "outputs": [
    {
     "data": {
      "text/plain": [
       "Yes    178853\n",
       "No     145534\n",
       "Name: medcond_yn, dtype: int64"
      ]
     },
     "execution_count": 158,
     "metadata": {},
     "output_type": "execute_result"
    }
   ],
   "source": [
    "df['medcond_yn'].value_counts()"
   ]
  },
  {
   "cell_type": "code",
   "execution_count": 159,
   "id": "7d18bc36",
   "metadata": {},
   "outputs": [
    {
     "data": {
      "text/plain": [
       "Yes    55.135687\n",
       "No     44.864313\n",
       "Name: medcond_yn, dtype: float64"
      ]
     },
     "execution_count": 159,
     "metadata": {},
     "output_type": "execute_result"
    }
   ],
   "source": [
    "#Here we will show the percentages\n",
    "(100*df['medcond_yn'].value_counts()/len(df['medcond_yn']))"
   ]
  },
  {
   "cell_type": "code",
   "execution_count": 160,
   "id": "99b2c767",
   "metadata": {},
   "outputs": [
    {
     "data": {
      "image/png": "[encoded data removed]",
      "text/plain": [
       "<Figure size 432x288 with 1 Axes>"
      ]
     },
     "metadata": {
      "needs_background": "light"
     },
     "output_type": "display_data"
    }
   ],
   "source": [
    "df['medcond_yn'].value_counts().plot(kind='bar')\n",
    "plt.xlabel('medcond_yn')\n",
    "plt.ylabel('frequency')\n",
    "plt.show()"
   ]
  },
  {
   "cell_type": "code",
   "execution_count": 161,
   "id": "1be77b1f",
   "metadata": {},
   "outputs": [
    {
     "data": {
      "image/png": "[encoded data removed]",
      "text/plain": [
       "<Figure size 432x288 with 1 Axes>"
      ]
     },
     "metadata": {},
     "output_type": "display_data"
    }
   ],
   "source": [
    "#Here we will plot the percentages\n",
    "#(100*df['medcond_yn'].value_counts()/len(df['medcond_yn'])).plot(kind='bar',title='medcond_yn Percentages')\n",
    "df['medcond_yn'].value_counts().plot(kind='pie',autopct='%1.2f%%')\n",
    "plt.title('medcond_yn Percentages')\n",
    "plt.legend()\n",
    "plt.show()"
   ]
  },
  {
   "cell_type": "markdown",
   "id": "f84843f6",
   "metadata": {},
   "source": [
    "From the results above, we can see that a huge number of the patients in our sample have medical conditions (almost about 55%). Many reasons might have caused this effect: maybe the people who have medical conditions are more likely to be infected, or more likely to have serious symptoms (i.e. They have to go to hospital, which means that their cases are more likely to be confirmed). Or maybe because the American population contains a lot of people who have medical conditions. Or maybe the health care providers in USA make a lot of tests for the people who have medical conditions (like in nursing homes) to check if they have covid-19. Or maybe the data of the patients who have medical conditions are well recorded (i.e. without null, missing or unknown values) so their percentage increased in our sample.,  or..."
   ]
  },
  {
   "cell_type": "markdown",
   "id": "b0230312",
   "metadata": {},
   "source": [
    "## 6- Multivariate Analysis"
   ]
  },
  {
   "cell_type": "markdown",
   "id": "2e66c46b",
   "metadata": {},
   "source": [
    "As our goal is studying the relationships between our features and the mortality rate, in this section we will study only the relationships between death_yn and all the other features. \n",
    "\n",
    "In order to simplify the study, we will not study all the other features pairwise relationships."
   ]
  },
  {
   "cell_type": "markdown",
   "id": "0c78da63",
   "metadata": {},
   "source": [
    "### 6.1- sex and death_yn"
   ]
  },
  {
   "cell_type": "markdown",
   "id": "890f8cf4",
   "metadata": {},
   "source": [
    "To understand the relationship between the sex and the death_yn which are categorical variables, we have to check the mortality rate depending on each possible value of the sex.\n",
    "\n",
    "P.S. mortality rate is the death rate. In other words, in a sample of patients equals to the number of deaths in the sample divide by the sample size. And this rate can be visualized using probability mass function. "
   ]
  },
  {
   "cell_type": "code",
   "execution_count": 162,
   "id": "6f0e263f",
   "metadata": {},
   "outputs": [
    {
     "name": "stdout",
     "output_type": "stream",
     "text": [
      "Propability of death PMF For Females:\n",
      "No     0.954634\n",
      "Yes    0.045366\n",
      "Name: death_yn, dtype: float64\n",
      "\n",
      "Propability of death PMF For Males:\n",
      "No     0.92955\n",
      "Yes    0.07045\n",
      "Name: death_yn, dtype: float64\n"
     ]
    }
   ],
   "source": [
    "# Filter out the males from our original data frame\n",
    "temp_female_df=df.loc[df['sex']=='Female']\n",
    "temp_female_df=temp_female_df[['sex','death_yn']]\n",
    "\n",
    "#print the propability mass function of the females death \n",
    "print(\"Propability of death PMF For Females:\")\n",
    "print((temp_female_df['death_yn'].value_counts()/len(temp_female_df['death_yn'])))\n",
    "print()\n",
    "\n",
    "# Filter out the females from our original data frame\n",
    "temp_male_df=df.loc[df['sex']=='Male']\n",
    "temp_male_df=temp_male_df[['sex','death_yn']]\n",
    "\n",
    "#print the propability mass function of the males death\n",
    "print(\"Propability of death PMF For Males:\")\n",
    "print((temp_male_df['death_yn'].value_counts()/len(temp_male_df['death_yn'])))"
   ]
  },
  {
   "cell_type": "code",
   "execution_count": 163,
   "id": "436cc4e7",
   "metadata": {},
   "outputs": [
    {
     "data": {
      "image/png": "[encoded data removed]",
      "text/plain": [
       "<Figure size 432x288 with 1 Axes>"
      ]
     },
     "metadata": {
      "needs_background": "light"
     },
     "output_type": "display_data"
    }
   ],
   "source": [
    "#plot the propability mass function of the males and females death\n",
    "(temp_female_df['death_yn'].value_counts()/len(temp_female_df['death_yn'])).plot(kind='bar',align='center', width=0.1, color='red',legend='Female', label='Female')\n",
    "(temp_male_df['death_yn'].value_counts()/len(temp_male_df['death_yn'])).plot(kind='bar',align='edge', width=0.1, color='blue',legend='Male',label='Male')\n",
    "plt.title('Probability Mass Functions PMFs')\n",
    "plt.xlabel(\"death_yn\")\n",
    "plt.ylabel(\"probability\")\n",
    "plt.legend(title = \"Sex:\")\n",
    "plt.grid()\n",
    "plt.show()"
   ]
  },
  {
   "cell_type": "markdown",
   "id": "3b56dffb",
   "metadata": {},
   "source": [
    "From the results above, we can see that even though that the females have appeared more in our sample, they might have a lower mortality rate."
   ]
  },
  {
   "cell_type": "markdown",
   "id": "6a747299",
   "metadata": {},
   "source": [
    "### 6.2- age_group  and death_yn"
   ]
  },
  {
   "cell_type": "markdown",
   "id": "f8c19c0f",
   "metadata": {},
   "source": [
    "To understand the relationship between the age_group and the death_yn which are category variables, we have to check the mortality rate depending on each possible value of the age_group."
   ]
  },
  {
   "cell_type": "code",
   "execution_count": 164,
   "id": "90c66b32",
   "metadata": {
    "scrolled": true
   },
   "outputs": [
    {
     "name": "stdout",
     "output_type": "stream",
     "text": [
      "Propability of death PMF For age group [0,9]:\n",
      "No     0.998656\n",
      "Yes    0.001344\n",
      "Name: death_yn, dtype: float64\n",
      "\n",
      "Propability of death PMF For age group [10,19]:\n",
      "No     0.998983\n",
      "Yes    0.001017\n",
      "Name: death_yn, dtype: float64\n",
      "\n",
      "Propability of death PMF For age group [20,29]:\n",
      "No     0.997981\n",
      "Yes    0.002019\n",
      "Name: death_yn, dtype: float64\n",
      "\n",
      "Propability of death PMF For age group [30,39]:\n",
      "No     0.993295\n",
      "Yes    0.006705\n",
      "Name: death_yn, dtype: float64\n",
      "\n",
      "Propability of death PMF For age group [40,49]:\n",
      "No     0.983692\n",
      "Yes    0.016308\n",
      "Name: death_yn, dtype: float64\n",
      "\n",
      "Propability of death PMF For age group [50,59]:\n",
      "No     0.957763\n",
      "Yes    0.042237\n",
      "Name: death_yn, dtype: float64\n",
      "\n",
      "Propability of death PMF For age group [60,69]:\n",
      "No     0.902684\n",
      "Yes    0.097316\n",
      "Name: death_yn, dtype: float64\n",
      "\n",
      "Propability of death PMF For age group [70,79]:\n",
      "No     0.809666\n",
      "Yes    0.190334\n",
      "Name: death_yn, dtype: float64\n",
      "\n",
      "Propability of death PMF For age group 80+:\n",
      "No     0.633451\n",
      "Yes    0.366549\n",
      "Name: death_yn, dtype: float64\n",
      "\n"
     ]
    }
   ],
   "source": [
    "# get the age group [0,9] from our original data frame\n",
    "temp_zero_to_nine_df=df.loc[df['age_group']=='0 - 9 Years']\n",
    "temp_zero_to_nine_df=temp_zero_to_nine_df[['age_group','death_yn']]\n",
    "#print the death propability mass function of the age group [0,9]  \n",
    "print(\"Propability of death PMF For age group [0,9]:\")\n",
    "print((temp_zero_to_nine_df['death_yn'].value_counts()/len(temp_zero_to_nine_df['death_yn'])))\n",
    "print()\n",
    "\n",
    "# get the age group [10,19] from our original data frame\n",
    "temp_ten_to_nineteen_df=df.loc[df['age_group']=='10 - 19 Years']\n",
    "temp_ten_to_nineteen_df=temp_ten_to_nineteen_df[['age_group','death_yn']]\n",
    "#print the death propability mass function of the age group [10,19]  \n",
    "print(\"Propability of death PMF For age group [10,19]:\")\n",
    "print((temp_ten_to_nineteen_df['death_yn'].value_counts()/len(temp_ten_to_nineteen_df['death_yn'])))\n",
    "print()\n",
    "\n",
    "# get the age group [20,29] from our original data frame\n",
    "temp_twenty_to_twenty_nine_df=df.loc[df['age_group']=='20 - 29 Years']\n",
    "temp_twenty_to_twenty_nine_df=temp_twenty_to_twenty_nine_df[['age_group','death_yn']]\n",
    "#print the death propability mass function of the age group [20,29]  \n",
    "print(\"Propability of death PMF For age group [20,29]:\")\n",
    "print((temp_twenty_to_twenty_nine_df['death_yn'].value_counts()/len(temp_twenty_to_twenty_nine_df['death_yn'])))\n",
    "print()\n",
    "\n",
    "# get the age group [30,39] from our original data frame\n",
    "temp_thirty_to_thirty_nine_df=df.loc[df['age_group']=='30 - 39 Years']\n",
    "temp_thirty_to_thirty_nine_df=temp_thirty_to_thirty_nine_df[['age_group','death_yn']]\n",
    "#print the death propability mass function of the age group [30,39]  \n",
    "print(\"Propability of death PMF For age group [30,39]:\")\n",
    "print((temp_thirty_to_thirty_nine_df['death_yn'].value_counts()/len(temp_thirty_to_thirty_nine_df['death_yn'])))\n",
    "print()\n",
    "\n",
    "# get the age group [40,49] from our original data frame\n",
    "temp_fourty_to_fourty_nine_df=df.loc[df['age_group']=='40 - 49 Years']\n",
    "temp_fourty_to_fourty_nine_df=temp_fourty_to_fourty_nine_df[['age_group','death_yn']]\n",
    "#print the death propability mass function of the age group [40,49]  \n",
    "print(\"Propability of death PMF For age group [40,49]:\")\n",
    "print((temp_fourty_to_fourty_nine_df['death_yn'].value_counts()/len(temp_fourty_to_fourty_nine_df['death_yn'])))\n",
    "print()\n",
    "\n",
    "# get the age group [50,59] from our original data frame\n",
    "temp_fifty_to_fifty_nine_df=df.loc[df['age_group']=='50 - 59 Years']\n",
    "temp_fifty_to_fifty_nine_df=temp_fifty_to_fifty_nine_df[['age_group','death_yn']]\n",
    "#print the death propability mass function of the age group [50,59]  \n",
    "print(\"Propability of death PMF For age group [50,59]:\")\n",
    "print((temp_fifty_to_fifty_nine_df['death_yn'].value_counts()/len(temp_fifty_to_fifty_nine_df['death_yn'])))\n",
    "print()\n",
    "\n",
    "# get the age group [60,69] from our original data frame\n",
    "temp_sixty_to_sixty_nine_df=df.loc[df['age_group']=='60 - 69 Years']\n",
    "temp_sixty_to_sixty_nine_df=temp_sixty_to_sixty_nine_df[['age_group','death_yn']]\n",
    "#print the death propability mass function of the age group [60,69]  \n",
    "print(\"Propability of death PMF For age group [60,69]:\")\n",
    "print((temp_sixty_to_sixty_nine_df['death_yn'].value_counts()/len(temp_sixty_to_sixty_nine_df['death_yn'])))\n",
    "print()\n",
    "\n",
    "# get the age group [70,79] from our original data frame\n",
    "temp_seventy_to_seventy_nine_df=df.loc[df['age_group']=='70 - 79 Years']\n",
    "temp_seventy_to_seventy_nine_df=temp_seventy_to_seventy_nine_df[['age_group','death_yn']]\n",
    "#print the death propability mass function of the age group [70,79]  \n",
    "print(\"Propability of death PMF For age group [70,79]:\")\n",
    "print((temp_seventy_to_seventy_nine_df['death_yn'].value_counts()/len(temp_seventy_to_seventy_nine_df['death_yn'])))\n",
    "print()\n",
    "\n",
    "# get the age group 80+ from our original data frame\n",
    "temp_eighty_plus_df=df.loc[df['age_group']=='80+ Years']\n",
    "temp_eighty_plus_df=temp_eighty_plus_df[['age_group','death_yn']]\n",
    "#print the death propability mass function of the age group 80+  \n",
    "print(\"Propability of death PMF For age group 80+:\")\n",
    "print((temp_eighty_plus_df['death_yn'].value_counts()/len(temp_eighty_plus_df['death_yn'])))\n",
    "print()\n",
    "\n"
   ]
  },
  {
   "cell_type": "markdown",
   "id": "4942126f",
   "metadata": {},
   "source": [
    "From the results above we can see that the mortality rate increses by increasing the the age. So let us draw the mortality rate (probability of death) by age group in our sample."
   ]
  },
  {
   "cell_type": "code",
   "execution_count": 165,
   "id": "b643b6b0",
   "metadata": {},
   "outputs": [
    {
     "data": {
      "image/png": "[encoded data removed]",
      "text/plain": [
       "<Figure size 1440x720 with 1 Axes>"
      ]
     },
     "metadata": {
      "needs_background": "light"
     },
     "output_type": "display_data"
    }
   ],
   "source": [
    "import numpy as np\n",
    "age_groups_values_counts=df['age_group'].value_counts().sort_index()\n",
    "age_groups=age_groups_values_counts.index\n",
    "mortality_rate=np.ndarray(shape=(9,1), dtype=float)\n",
    "mortality_rate[0]=temp_zero_to_nine_df['death_yn'].value_counts()['Yes']/len(temp_zero_to_nine_df['death_yn'])\n",
    "mortality_rate[1]=temp_ten_to_nineteen_df['death_yn'].value_counts()['Yes']/len(temp_ten_to_nineteen_df['death_yn'])\n",
    "mortality_rate[2]=temp_twenty_to_twenty_nine_df['death_yn'].value_counts()['Yes']/len(temp_twenty_to_twenty_nine_df['death_yn'])\n",
    "mortality_rate[3]=temp_thirty_to_thirty_nine_df['death_yn'].value_counts()['Yes']/len(temp_thirty_to_thirty_nine_df['death_yn'])\n",
    "mortality_rate[4]=temp_fourty_to_fourty_nine_df['death_yn'].value_counts()['Yes']/len(temp_fourty_to_fourty_nine_df['death_yn'])\n",
    "mortality_rate[5]=temp_fifty_to_fifty_nine_df['death_yn'].value_counts()['Yes']/len(temp_fifty_to_fifty_nine_df['death_yn'])\n",
    "mortality_rate[6]=temp_sixty_to_sixty_nine_df['death_yn'].value_counts()['Yes']/len(temp_sixty_to_sixty_nine_df['death_yn'])\n",
    "mortality_rate[7]=temp_seventy_to_seventy_nine_df['death_yn'].value_counts()['Yes']/len(temp_seventy_to_seventy_nine_df['death_yn'])\n",
    "mortality_rate[8]=temp_eighty_plus_df['death_yn'].value_counts()['Yes']/len(temp_eighty_plus_df['death_yn'])\n",
    "plt.figure(figsize=(20,10))\n",
    "plt.plot(age_groups,mortality_rate,'o-b')\n",
    "plt.ylabel('maortality rate (probability of death)')\n",
    "plt.xlabel('age_group')\n",
    "plt.title('mortality rate')\n",
    "plt.show()"
   ]
  },
  {
   "cell_type": "markdown",
   "id": "b048f5e1",
   "metadata": {},
   "source": [
    "From the figure above we can see that the mortality rate curve is almost flattened for the young ages, but for the older patients (starting from the '40-49 years' slice) the mortality rate increase exponentially."
   ]
  },
  {
   "cell_type": "markdown",
   "id": "6f2ac5c8",
   "metadata": {},
   "source": [
    "### 6.3- Race and ethnicity (combined) vs death_yn"
   ]
  },
  {
   "cell_type": "markdown",
   "id": "837a9417",
   "metadata": {},
   "source": [
    "In this section we will plot the mortality rate by race and ethnicity group:"
   ]
  },
  {
   "cell_type": "code",
   "execution_count": 166,
   "id": "cf40a181",
   "metadata": {},
   "outputs": [
    {
     "name": "stdout",
     "output_type": "stream",
     "text": [
      "Propability of death PMF for 'White, Non-Hispanic':\n",
      "No     0.942411\n",
      "Yes    0.057589\n",
      "Name: death_yn, dtype: float64\n",
      "\n",
      "Propability of death PMF for 'Hispanic/Latino':\n",
      "No     0.963857\n",
      "Yes    0.036143\n",
      "Name: death_yn, dtype: float64\n",
      "\n",
      "Propability of death PMF for 'Black, Non-Hispanic':\n",
      "No     0.909812\n",
      "Yes    0.090188\n",
      "Name: death_yn, dtype: float64\n",
      "\n",
      "Propability of death PMF for 'Asian, Non-Hispanic':\n",
      "No     0.92373\n",
      "Yes    0.07627\n",
      "Name: death_yn, dtype: float64\n",
      "\n",
      "Propability of death PMF for 'Multiple/Other, Non-Hispanic':\n",
      "No     0.919615\n",
      "Yes    0.080385\n",
      "Name: death_yn, dtype: float64\n",
      "\n",
      "Propability of death PMF for 'Native Hawaiian/Other Pacific Islander, Non-Hispanic':\n",
      "No     0.961275\n",
      "Yes    0.038725\n",
      "Name: death_yn, dtype: float64\n",
      "\n",
      "Propability of death PMF for 'American Indian/Alaska Native, Non-Hispanic':\n",
      "No     0.904626\n",
      "Yes    0.095374\n",
      "Name: death_yn, dtype: float64\n",
      "\n",
      "White, Non-Hispanic                                     180088\n",
      "Hispanic/Latino                                          83114\n",
      "Black, Non-Hispanic                                      37799\n",
      "Asian, Non-Hispanic                                      10371\n",
      "Multiple/Other, Non-Hispanic                              9131\n",
      "Native Hawaiian/Other Pacific Islander, Non-Hispanic      2479\n",
      "American Indian/Alaska Native, Non-Hispanic               1405\n",
      "Name: Race and ethnicity (combined), dtype: int64\n"
     ]
    }
   ],
   "source": [
    "# get the 'White, Non-Hispanic' from our original data frame\n",
    "temp_white_df=df.loc[df['Race and ethnicity (combined)']=='White, Non-Hispanic']\n",
    "temp_white_df=temp_white_df[['Race and ethnicity (combined)','death_yn']]\n",
    "#print the death propability mass function of the 'White, Non-Hispanic'\n",
    "print(\"Propability of death PMF for 'White, Non-Hispanic':\")\n",
    "print((temp_white_df['death_yn'].value_counts()/len(temp_white_df['death_yn'])))\n",
    "print()\n",
    "\n",
    "# get the 'Hispanic/Latino' from our original data frame\n",
    "temp_hispanic_df=df.loc[df['Race and ethnicity (combined)']=='Hispanic/Latino']\n",
    "temp_hispanic_df=temp_hispanic_df[['Race and ethnicity (combined)','death_yn']]\n",
    "#print the death propability mass function of the 'Hispanic/Latino'\n",
    "print(\"Propability of death PMF for 'Hispanic/Latino':\")\n",
    "print((temp_hispanic_df['death_yn'].value_counts()/len(temp_hispanic_df['death_yn'])))\n",
    "print()\n",
    "\n",
    "# get the 'Black, Non-Hispanic' from our original data frame\n",
    "temp_black_df=df.loc[df['Race and ethnicity (combined)']=='Black, Non-Hispanic']\n",
    "temp_black_df=temp_black_df[['Race and ethnicity (combined)','death_yn']]\n",
    "#print the death propability mass function of the 'Black, Non-Hispanic'\n",
    "print(\"Propability of death PMF for 'Black, Non-Hispanic':\")\n",
    "print((temp_black_df['death_yn'].value_counts()/len(temp_black_df['death_yn'])))\n",
    "print()\n",
    "\n",
    "# get the 'Asian, Non-Hispanic' from our original data frame\n",
    "temp_asian_df=df.loc[df['Race and ethnicity (combined)']=='Asian, Non-Hispanic']\n",
    "temp_asian_df=temp_asian_df[['Race and ethnicity (combined)','death_yn']]\n",
    "#print the death propability mass function of the 'Asian, Non-Hispanic'\n",
    "print(\"Propability of death PMF for 'Asian, Non-Hispanic':\")\n",
    "print((temp_asian_df['death_yn'].value_counts()/len(temp_asian_df['death_yn'])))\n",
    "print()\n",
    "\n",
    "# get the 'Multiple/Other, Non-Hispanic' from our original data frame\n",
    "temp_other_df=df.loc[df['Race and ethnicity (combined)']=='Multiple/Other, Non-Hispanic']\n",
    "temp_other_df=temp_other_df[['Race and ethnicity (combined)','death_yn']]\n",
    "#print the death propability mass function of the 'Multiple/Other, Non-Hispanic'\n",
    "print(\"Propability of death PMF for 'Multiple/Other, Non-Hispanic':\")\n",
    "print((temp_other_df['death_yn'].value_counts()/len(temp_other_df['death_yn'])))\n",
    "print()\n",
    "\n",
    "# get the 'Native Hawaiian/Other Pacific Islander, Non-Hispanic' from our original data frame\n",
    "temp_native_df=df.loc[df['Race and ethnicity (combined)']=='Native Hawaiian/Other Pacific Islander, Non-Hispanic']\n",
    "temp_native_df=temp_native_df[['Race and ethnicity (combined)','death_yn']]\n",
    "#print the death propability mass function of the 'Native Hawaiian/Other Pacific Islander, Non-Hispanic'\n",
    "print(\"Propability of death PMF for 'Native Hawaiian/Other Pacific Islander, Non-Hispanic':\")\n",
    "print((temp_native_df['death_yn'].value_counts()/len(temp_native_df['death_yn'])))\n",
    "print()\n",
    "\n",
    "# get the 'American Indian/Alaska Native, Non-Hispanic' from our original data frame\n",
    "temp_american_indian_df=df.loc[df['Race and ethnicity (combined)']=='American Indian/Alaska Native, Non-Hispanic']\n",
    "temp_american_indian_df=temp_american_indian_df[['Race and ethnicity (combined)','death_yn']]\n",
    "#print the death propability mass function of the 'American Indian/Alaska Native, Non-Hispanic'\n",
    "print(\"Propability of death PMF for 'American Indian/Alaska Native, Non-Hispanic':\")\n",
    "print((temp_american_indian_df['death_yn'].value_counts()/len(temp_american_indian_df['death_yn'])))\n",
    "print()\n",
    "\n",
    "print(df['Race and ethnicity (combined)'].value_counts())"
   ]
  },
  {
   "cell_type": "code",
   "execution_count": 167,
   "id": "ddb3d40f",
   "metadata": {},
   "outputs": [
    {
     "data": {
      "image/png": "[encoded data removed]",
      "text/plain": [
       "<Figure size 2160x720 with 1 Axes>"
      ]
     },
     "metadata": {
      "needs_background": "light"
     },
     "output_type": "display_data"
    }
   ],
   "source": [
    "from matplotlib import cm\n",
    "race_and_ethnicity_values_counts=df['Race and ethnicity (combined)'].value_counts()\n",
    "race_and_ethnicities=race_and_ethnicity_values_counts.index\n",
    "mortality_rate=np.ndarray(shape=(7), dtype=float)\n",
    "mortality_rate[0]=temp_white_df['death_yn'].value_counts()['Yes']/len(temp_white_df['death_yn'])\n",
    "mortality_rate[1]=temp_hispanic_df['death_yn'].value_counts()['Yes']/len(temp_hispanic_df['death_yn'])\n",
    "mortality_rate[2]=temp_black_df['death_yn'].value_counts()['Yes']/len(temp_black_df['death_yn'])\n",
    "mortality_rate[3]=temp_asian_df['death_yn'].value_counts()['Yes']/len(temp_asian_df['death_yn'])\n",
    "mortality_rate[4]=temp_other_df['death_yn'].value_counts()['Yes']/len(temp_other_df['death_yn'])\n",
    "mortality_rate[5]=temp_native_df['death_yn'].value_counts()['Yes']/len(temp_native_df['death_yn'])\n",
    "mortality_rate[6]=temp_american_indian_df['death_yn'].value_counts()['Yes']/len(temp_american_indian_df['death_yn'])\n",
    "temp_df=pd.DataFrame(data=[np.array(race_and_ethnicities), mortality_rate],index=['race_and_ethnicity','mortality_rate'])\n",
    "temp_df=temp_df.T\n",
    "temp_df=temp_df.sort_values('mortality_rate',ascending=False)\n",
    "plt.figure(figsize=(30,10))\n",
    "y = np.array([13, 11, 9, 7, 5, 3, 1])\n",
    "colors = cm.hsv(y / float(max(y)))\n",
    "plt.bar(temp_df['race_and_ethnicity'],temp_df['mortality_rate'], color = colors)\n",
    "plt.ylabel('maortality rate (probability of death)')\n",
    "plt.xlabel('Race and Ethnicity')\n",
    "plt.title('mortality rate')\n",
    "plt.show()"
   ]
  },
  {
   "cell_type": "markdown",
   "id": "460b032d",
   "metadata": {},
   "source": [
    "Apparently, the figure above tells us that the \"American Indian/Alaska Native, Non-Hispanic\" and the \"Black Non-Hispanic\" have a higher mortality rate than the others. Also it tells us that the \"Hispanic/ Latino\" group has the lowest mortality rate in our sample."
   ]
  },
  {
   "cell_type": "markdown",
   "id": "2977e55f",
   "metadata": {},
   "source": [
    "### 6.4- hosp_yn  and death_yn"
   ]
  },
  {
   "cell_type": "markdown",
   "id": "9144b5af",
   "metadata": {},
   "source": [
    "To understand the relationship between the hosp_yn and the death_yn which are Boolean variables, we will check the mortality rate depending on the values of the hosp_yn."
   ]
  },
  {
   "cell_type": "code",
   "execution_count": 168,
   "id": "ea7d44bc",
   "metadata": {},
   "outputs": [
    {
     "name": "stdout",
     "output_type": "stream",
     "text": [
      "Propability of death PMF For hospitalized patient:\n",
      "No     0.721238\n",
      "Yes    0.278762\n",
      "Name: death_yn, dtype: float64\n",
      "\n",
      "Propability of death PMF For non-hospitalized patient:\n",
      "No     0.990628\n",
      "Yes    0.009372\n",
      "Name: death_yn, dtype: float64\n"
     ]
    }
   ],
   "source": [
    "# Filter out the non-hospitalized from our original data frame\n",
    "temp_hospitalized_df=df.loc[df['hosp_yn']=='Yes']\n",
    "temp_hospitalized_df=temp_hospitalized_df[['hosp_yn','death_yn']]\n",
    "\n",
    "#print the death propability mass function of the hospitalized patients  \n",
    "print(\"Propability of death PMF For hospitalized patient:\")\n",
    "print((temp_hospitalized_df['death_yn'].value_counts()/len(temp_hospitalized_df['death_yn'])))\n",
    "print()\n",
    "\n",
    "# Filter out the hospitalized from our original data frame\n",
    "temp_nonhospitalized_df=df.loc[df['hosp_yn']=='No']\n",
    "temp_nonhospitalized_df=temp_nonhospitalized_df[['hosp_yn','death_yn']]\n",
    "\n",
    "#print the propability mass function of the males death\n",
    "print(\"Propability of death PMF For non-hospitalized patient:\")\n",
    "print((temp_nonhospitalized_df['death_yn'].value_counts()/len(temp_nonhospitalized_df['death_yn'])))"
   ]
  },
  {
   "cell_type": "markdown",
   "id": "c2ac4ecb",
   "metadata": {},
   "source": [
    "From the results above the mortality rate of the hospitalized patients is very high ~28%, while it less than 1% for the non-hospitalized ones. This result can be clarified in the bar plot below:"
   ]
  },
  {
   "cell_type": "code",
   "execution_count": 169,
   "id": "66c33464",
   "metadata": {},
   "outputs": [
    {
     "data": {
      "image/png": "[encoded data removed]",
      "text/plain": [
       "<Figure size 432x288 with 1 Axes>"
      ]
     },
     "metadata": {
      "needs_background": "light"
     },
     "output_type": "display_data"
    }
   ],
   "source": [
    "#plot the death propability mass function of the hospitalized and non-hospitalized patients.\n",
    "(temp_hospitalized_df['death_yn'].value_counts()/len(temp_hospitalized_df['death_yn'])).plot(kind='bar',align='center', width=0.1, color='red',legend='hospitalized', label='hospitalized')\n",
    "(temp_nonhospitalized_df['death_yn'].value_counts()/len(temp_nonhospitalized_df['death_yn'])).plot(kind='bar',align='edge', width=0.1, color='blue',legend='non-hospitalized',label='non-hospitalized')\n",
    "plt.title('Probability Mass Functions PMFs')\n",
    "plt.xlabel(\"death_yn\")\n",
    "plt.ylabel(\"probability\")\n",
    "plt.legend(title = \"hosp_yn:\")\n",
    "plt.grid()\n",
    "plt.show()"
   ]
  },
  {
   "cell_type": "markdown",
   "id": "b8d49234",
   "metadata": {},
   "source": [
    "The result above tells us that the patients who don't need to be hospitalized might be less likely to die. That could be because that most the patients who die might have serious symptoms requires the hospitalization."
   ]
  },
  {
   "cell_type": "markdown",
   "id": "6f5e4b5f",
   "metadata": {},
   "source": [
    "### 6.5- icu_yn  and death_yn"
   ]
  },
  {
   "cell_type": "markdown",
   "id": "81171dcb",
   "metadata": {},
   "source": [
    "To understand the relationship between the icu_yn and the death_yn which are Boolean variables, we will check the mortality rate depending on the values of the icu_yn."
   ]
  },
  {
   "cell_type": "code",
   "execution_count": 170,
   "id": "852331e4",
   "metadata": {},
   "outputs": [
    {
     "name": "stdout",
     "output_type": "stream",
     "text": [
      "Propability of death PMF For hospitalized patient:\n",
      "Yes    0.518723\n",
      "No     0.481277\n",
      "Name: death_yn, dtype: float64\n",
      "\n",
      "Propability of death PMF For non-hospitalized patient:\n",
      "No     0.973871\n",
      "Yes    0.026129\n",
      "Name: death_yn, dtype: float64\n"
     ]
    }
   ],
   "source": [
    "# Filter out the icu_yn=No from our original data frame\n",
    "temp_icu_yes_df=df.loc[df['icu_yn']=='Yes']\n",
    "temp_icu_yes_df=temp_icu_yes_df[['icu_yn','death_yn']]\n",
    "\n",
    "#print the death propability mass function of the ICUed patients  \n",
    "print(\"Propability of death PMF For hospitalized patient:\")\n",
    "print((temp_icu_yes_df['death_yn'].value_counts()/len(temp_icu_yes_df['death_yn'])))\n",
    "print()\n",
    "\n",
    "# Filter out the icu_yn=Yes from our original data frame\n",
    "temp_icu_no_df=df.loc[df['icu_yn']=='No']\n",
    "temp_icu_no_df=temp_icu_no_df[['icu_yn','death_yn']]\n",
    "\n",
    "#print the propability mass function of the icu_yn=no death\n",
    "print(\"Propability of death PMF For non-hospitalized patient:\")\n",
    "print((temp_icu_no_df['death_yn'].value_counts()/len(temp_icu_no_df['death_yn'])))"
   ]
  },
  {
   "cell_type": "markdown",
   "id": "e7a60db5",
   "metadata": {},
   "source": [
    "From the results above the mortality rate of the patients that have been admitted to ICU is very high ~52%, while it is less than 3% for the non-admitted ones. This result can be clarified in the bar plot below:"
   ]
  },
  {
   "cell_type": "code",
   "execution_count": 171,
   "id": "e019bc59",
   "metadata": {},
   "outputs": [
    {
     "data": {
      "image/png": "[encoded data removed]",
      "text/plain": [
       "<Figure size 432x288 with 1 Axes>"
      ]
     },
     "metadata": {
      "needs_background": "light"
     },
     "output_type": "display_data"
    }
   ],
   "source": [
    "#plot the death propability mass function of the icu_yn=Yes and icu_yn=No patients.\n",
    "(temp_icu_yes_df['death_yn'].value_counts().sort_index()/len(temp_icu_yes_df['death_yn'])).plot(kind='bar',align='center', width=0.1, color='red',legend='Yes', label='Yes')\n",
    "(temp_icu_no_df['death_yn'].value_counts().sort_index()/len(temp_icu_no_df['death_yn'])).plot(kind='bar',align='edge', width=0.1, color='blue',legend='No',label='No')\n",
    "plt.title('Probability Mass Functions PMFs')\n",
    "plt.xlabel(\"death_yn\")\n",
    "plt.ylabel(\"probability\")\n",
    "plt.legend(title = \"icu_yn:\")\n",
    "plt.grid()\n",
    "plt.show()"
   ]
  },
  {
   "cell_type": "markdown",
   "id": "d508e6be",
   "metadata": {},
   "source": [
    "### 6.6- medcond_yn and death_yn"
   ]
  },
  {
   "cell_type": "code",
   "execution_count": 172,
   "id": "b08d96ae",
   "metadata": {},
   "outputs": [
    {
     "name": "stdout",
     "output_type": "stream",
     "text": [
      "Propability of death PMF for patients who have medical conditions:\n",
      "No     0.904726\n",
      "Yes    0.095274\n",
      "Name: death_yn, dtype: float64\n",
      "\n",
      "Propability of death PMF for patients who don't have medical conditions:\n",
      "No     0.9897\n",
      "Yes    0.0103\n",
      "Name: death_yn, dtype: float64\n"
     ]
    }
   ],
   "source": [
    "# Filter out the patients who don't have medical conditions from our original data frame\n",
    "temp_medcond_yes_df=df.loc[df['medcond_yn']=='Yes']\n",
    "temp_medcond_yes_df=temp_medcond_yes_df[['medcond_yn','death_yn']]\n",
    "#print the death propability mass function of the patients who have medical conditions.  \n",
    "print(\"Propability of death PMF for patients who have medical conditions:\")\n",
    "print((temp_medcond_yes_df['death_yn'].value_counts()/len(temp_medcond_yes_df['death_yn'])))\n",
    "print()\n",
    "\n",
    "# Filter out the patients who have medical conditions from our original data frame\n",
    "temp_medcond_no_df=df.loc[df['medcond_yn']=='No']\n",
    "temp_medcond_no_df=temp_medcond_no_df[['icu_yn','death_yn']]\n",
    "\n",
    "#print the death propability mass function of the patients who don't have medical conditions. \n",
    "print(\"Propability of death PMF for patients who don't have medical conditions:\")\n",
    "print((temp_medcond_no_df['death_yn'].value_counts()/len(temp_medcond_no_df['death_yn'])))"
   ]
  },
  {
   "cell_type": "code",
   "execution_count": 173,
   "id": "e3abb2de",
   "metadata": {},
   "outputs": [
    {
     "data": {
      "image/png": "[encoded data removed]",
      "text/plain": [
       "<Figure size 432x288 with 1 Axes>"
      ]
     },
     "metadata": {
      "needs_background": "light"
     },
     "output_type": "display_data"
    }
   ],
   "source": [
    "#plot the death propability mass function of the patients who have and who don't have medical conditions .\n",
    "(temp_medcond_yes_df['death_yn'].value_counts().sort_index()/len(temp_medcond_yes_df['death_yn'])).plot(kind='bar',align='center', width=0.1, color='red',legend='Yes', label='Yes')\n",
    "(temp_medcond_no_df['death_yn'].value_counts().sort_index()/len(temp_medcond_no_df['death_yn'])).plot(kind='bar',align='edge', width=0.1, color='blue',legend='No',label='No')\n",
    "plt.title('Probability Mass Functions PMFs')\n",
    "plt.xlabel(\"death_yn\")\n",
    "plt.ylabel(\"probability\")\n",
    "plt.legend(title = \"medcond_yn:\")\n",
    "plt.grid()\n",
    "plt.show()"
   ]
  },
  {
   "cell_type": "markdown",
   "id": "7e96d7ca",
   "metadata": {},
   "source": [
    "The result above tells us that the patients who don't have medical conditions might be less likely to die. "
   ]
  },
  {
   "cell_type": "markdown",
   "id": "18ab3874",
   "metadata": {},
   "source": [
    "## 7- Hypothesis Testing "
   ]
  },
  {
   "cell_type": "markdown",
   "id": "b4206f6f",
   "metadata": {},
   "source": [
    "In the previous section, we noticed that the mortality rate of the patients, in our sample has been affected by all the studied factors. \n",
    "In this section we will propose and test some hypotheses about the effects that mentioned above.\n",
    "In other words, we will try to answer the following question: \"Given a sample and an apparent effect, what is the probability of seeing such an effect by chance?\"\n"
   ]
  },
  {
   "cell_type": "markdown",
   "id": "fb5862b8",
   "metadata": {},
   "source": [
    "### 7.1- Hypothesis: patients who are older than 60 years have a higher mortality rate"
   ]
  },
  {
   "cell_type": "markdown",
   "id": "69b6159a",
   "metadata": {},
   "source": [
    "- __Our Hypothesis__: covied-19 patients who are older than 60 years have a higher mortality rate than the others.\n",
    "\n",
    "- __Test Statistic__: For a __sub-sample__ which has the size __C(sub-sample)__ and the number of dead patients __D(sub-sample)__, the test statistic of this sub-sample is: mortality rate=__TS(sub-sample)=D(sub-sample)/C(sub-sample)__. where __C(sub-sample)__ in our case is always equal to the count of the patients who are older than 60 years in our original cleaned sample.\n",
    "\n",
    "- __Null Hypothesis__: patients who are older than 60 years have the same mortality rate of the other patients.\n",
    "\n",
    "- __Computing P-Value__: our test is one-tailed. To compute the P-Value we will generate the distribution of our test statistic __TS__ by repeating taking a random 'sub-sample\" of size __C__ from our original cleaned sample and calculate the corresponding __TS__ of this random \"sub-sample\".\n",
    "After generating the mentioned distribution we can calculate __P-Value = (100-percentile rank(TSH))/100__, where __TSH__ is the test statistic that corresponds to the patients who are older than 60 years in our original cleaned sample, i.e. \"__TSH=TS(patients who are older than 60 years in our original cleaned sample)__\"."
   ]
  },
  {
   "cell_type": "code",
   "execution_count": 174,
   "id": "458fa995",
   "metadata": {},
   "outputs": [
    {
     "name": "stdout",
     "output_type": "stream",
     "text": [
      "Sample Size (C): 81850\n",
      "TSH: 0.18563225412339646\n"
     ]
    },
    {
     "data": {
      "image/png": "[encoded data removed]",
      "text/plain": [
       "<Figure size 432x288 with 1 Axes>"
      ]
     },
     "metadata": {
      "needs_background": "light"
     },
     "output_type": "display_data"
    }
   ],
   "source": [
    "#calculate the sample size \"C\".\n",
    "older_than_80_count=len(df.loc[df['age_group']=='80+ Years'])\n",
    "between_70_and_79_count=len(df.loc[df['age_group']=='70 - 79 Years'])\n",
    "between_60_and_69_count=len(df.loc[df['age_group']=='60 - 69 Years'])\n",
    "C=older_than_80_count+between_70_and_79_count+between_60_and_69_count\n",
    "print(\"Sample Size (C): \"+ str(C))\n",
    "\n",
    "#calculate the death count D.\n",
    "older_than_80_death_count=len(df.loc[(df['age_group']=='80+ Years')&(df['death_yn']=='Yes')])\n",
    "between_70_and_79_death_count=len(df.loc[(df['age_group']=='70 - 79 Years')&(df['death_yn']=='Yes')])\n",
    "between_60_and_69_death_count=len(df.loc[(df['age_group']=='60 - 69 Years')&(df['death_yn']=='Yes')])\n",
    "D=older_than_80_death_count+between_70_and_79_death_count+between_60_and_69_death_count\n",
    "\n",
    "#calculate TSH \n",
    "TSH=D/C\n",
    "print(\"TSH: \" + str(TSH))\n",
    "\n",
    "#define the array that will contains the TSs of the randomly generated sub_samples\n",
    "sub_samples_TSs=np.ndarray(shape=(1000))\n",
    "for i in range(1000):\n",
    "    #generating a sub-sample of our sample with size c\n",
    "    sub_sample =df.sample(n=C)\n",
    "    #calculate TS for the sub-sample\n",
    "    D_of_sub_sample=len(sub_sample.loc[(sub_sample['death_yn']=='Yes')])\n",
    "    TS_of_sub_sample=D_of_sub_sample/C\n",
    "    sub_samples_TSs[i]=TS_of_sub_sample\n",
    "    \n",
    "temp_df=pd.DataFrame(sub_samples_TSs, columns=['frequency'])\n",
    "temp_df['frequency'].hist(bins=30)\n",
    "plt.show()"
   ]
  },
  {
   "cell_type": "code",
   "execution_count": 175,
   "id": "57dcd0e0",
   "metadata": {},
   "outputs": [
    {
     "data": {
      "image/png": "[encoded data removed]",
      "text/plain": [
       "<Figure size 432x288 with 1 Axes>"
      ]
     },
     "metadata": {
      "needs_background": "light"
     },
     "output_type": "display_data"
    }
   ],
   "source": [
    "count, bins_count= np.histogram(temp_df['frequency'], bins=400)\n",
    "# finding the PDF of the histogram using count values\n",
    "pdf = count / sum(count)\n",
    "  \n",
    "# using numpy np.cumsum to calculate the CDF\n",
    "# We can also find using the PDF values by looping and adding\n",
    "cdf = np.cumsum(pdf)\n",
    "\n",
    "#plot a vertical line corresponds to mortality rate of the patients that are older than 60 years\n",
    "plt.vlines(x =TSH, ymin = 0, ymax = 1, color='red', label='Older Than 60')\n",
    "\n",
    "# plotting PDF\n",
    "#plt.plot(bins_count[1:], pdf, color=\"red\", label=\"PDF\")\n",
    "\n",
    "# plotting CDF\n",
    "plt.plot(bins_count[1:], cdf, label=\"CDF\")\n",
    "plt.legend()\n",
    "plt.xlabel('mortality rate')\n",
    "plt.ylabel('probability')\n",
    "plt.grid()"
   ]
  },
  {
   "cell_type": "code",
   "execution_count": 249,
   "id": "09afc818",
   "metadata": {},
   "outputs": [
    {
     "name": "stdout",
     "output_type": "stream",
     "text": [
      "\n",
      "Percetile of older than 60 patients mortality rate  :  100.0\n",
      "\n",
      "P-Value of the older than 60 years patients mortality rate  :  0.0\n"
     ]
    }
   ],
   "source": [
    "from scipy import stats\n",
    "print (\"\\nPercetile of older than 60 patients mortality rate  : \", stats.percentileofscore(tem_df['frequency'], TSH))\n",
    "p_value=(100.0-stats.percentileofscore(tem_df['frequency'], TSH))/100\n",
    "print (\"\\nP-Value of the older than 60 years patients mortality rate  : \",p_value)"
   ]
  },
  {
   "cell_type": "markdown",
   "id": "a6ddd825",
   "metadata": {},
   "source": [
    "In the figure above we can see that the test statistic that corresponds to the patients who are older than 60 years in our sample (TSH) is far away from the distribution of the test statistics (TS) of the samples that have the same size. And by calculating P-Value we find that P-Value=0, which means the effect is significant and we have to accept our hypothesis.\n",
    "\n"
   ]
  },
  {
   "cell_type": "markdown",
   "id": "27c2fc79",
   "metadata": {},
   "source": [
    "### 7.2- Hypothesis: Males have a higher mortality rate"
   ]
  },
  {
   "cell_type": "markdown",
   "id": "723187c2",
   "metadata": {},
   "source": [
    "- __Our Hypothesis__: Male covied-19 patients have a higher mortality rate than the others.\n",
    "\n",
    "- __Test Statistic__: For a __sub-sample__ which has the size __C(sub-sample)__ and the number of dead patients __D(sub-sample)__, the test statistic of this sub-sample is: mortality rate=__TS(sub-sample)=D(sub-sample)/C(sub-sample)__. where __C(sub-sample)__ in our case is always equal to the count of the male patients in our original cleaned sample.\n",
    "\n",
    "- __Null Hypothesis__: male patients have the same mortality rate of the other patients.\n",
    "\n",
    "- __Computing P-Value__: our test is one-tailed. To compute the P-Value we will generate the distribution of our test statistic __TS__ by repeating taking a random 'sub-sample\" of size __C__ from our original cleaned sample and calculate the corresponding __TS__ of this random \"sub-sample\".\n",
    "After generating the mentioned distribution we can calculate __P-Value = (100-percentile rank(TSH))/100__, where __TSH__ is the test statistic that corresponds to the male patients in our original cleaned sample, i.e. \"__TSH=TS(male patients in our original cleaned sample)__\"."
   ]
  },
  {
   "cell_type": "code",
   "execution_count": 176,
   "id": "023b627c",
   "metadata": {},
   "outputs": [
    {
     "name": "stdout",
     "output_type": "stream",
     "text": [
      "Sample Size (C): 152477\n",
      "TSH: 0.07044996950359726\n"
     ]
    },
    {
     "data": {
      "image/png": "[encoded data removed]",
      "text/plain": [
       "<Figure size 432x288 with 1 Axes>"
      ]
     },
     "metadata": {
      "needs_background": "light"
     },
     "output_type": "display_data"
    }
   ],
   "source": [
    "#calculate the sample size \"C\".\n",
    "C=len(df.loc[df['sex']=='Male'])\n",
    "print(\"Sample Size (C): \"+ str(C))\n",
    "\n",
    "#calculate the death count D.\n",
    "D=len(df.loc[(df['sex']=='Male')&(df['death_yn']=='Yes')])\n",
    "\n",
    "#calculate TSH \n",
    "TSH=D/C\n",
    "print(\"TSH: \" + str(TSH))\n",
    "\n",
    "#define the array that will contains the TSs of the randomly generated sub_samples\n",
    "sub_samples_TSs=np.ndarray(shape=(1000))\n",
    "for i in range(1000):\n",
    "    #generating a sub-sample of our sample with size c\n",
    "    sub_sample =df.sample(n=C)\n",
    "    #calculate TS for the sub-sample\n",
    "    D_of_sub_sample=len(sub_sample.loc[(sub_sample['death_yn']=='Yes')])\n",
    "    TS_of_sub_sample=D_of_sub_sample/C\n",
    "    sub_samples_TSs[i]=TS_of_sub_sample\n",
    "    \n",
    "temp_df=pd.DataFrame(sub_samples_TSs, columns=['frequency'])\n",
    "temp_df['frequency'].hist(bins=30)\n",
    "plt.show()"
   ]
  },
  {
   "cell_type": "code",
   "execution_count": 177,
   "id": "e7aafa37",
   "metadata": {},
   "outputs": [
    {
     "data": {
      "image/png": "[encoded data removed]",
      "text/plain": [
       "<Figure size 432x288 with 1 Axes>"
      ]
     },
     "metadata": {
      "needs_background": "light"
     },
     "output_type": "display_data"
    }
   ],
   "source": [
    "count, bins_count= np.histogram(temp_df['frequency'], bins=1000)\n",
    "# finding the PDF of the histogram using count values\n",
    "pdf = count / sum(count)\n",
    "  \n",
    "# using numpy np.cumsum to calculate the CDF\n",
    "# We can also find using the PDF values by looping and adding\n",
    "cdf = np.cumsum(pdf)\n",
    "\n",
    "#plot a vertical line corresponds to mortality rate of male patients\n",
    "plt.vlines(x =TSH ,ymin = 0, ymax = 1, color='red', label='Males')\n",
    "\n",
    "# plotting PDF\n",
    "#plt.plot(bins_count[1:], pdf, color=\"red\", label=\"PDF\")\n",
    "\n",
    "# plotting CDF\n",
    "plt.plot(bins_count[1:], cdf, label=\"CDF\")\n",
    "plt.legend()\n",
    "plt.xlabel('mortality rate')\n",
    "plt.ylabel('probability')\n",
    "plt.grid()"
   ]
  },
  {
   "cell_type": "code",
   "execution_count": 245,
   "id": "4f6162f5",
   "metadata": {},
   "outputs": [
    {
     "name": "stdout",
     "output_type": "stream",
     "text": [
      "\n",
      "Percetile of male patients mortality rate  :  100.0\n",
      "\n",
      "P-Value of male patients mortality rate  :  0.0\n"
     ]
    }
   ],
   "source": [
    "print (\"\\nPercetile of male patients mortality rate  : \", stats.percentileofscore(tem_df['frequency'], TSH))\n",
    "p_value=(100.0-stats.percentileofscore(tem_df['frequency'], TSH))/100\n",
    "print (\"\\nP-Value of male patients mortality rate  : \",p_value)"
   ]
  },
  {
   "cell_type": "markdown",
   "id": "56b506f6",
   "metadata": {},
   "source": [
    "In the figure above we can see that the test statistic that corresponds to the Male patients in our sample (TSH) is far away from the distribution of the test statistics (TS) of the samples that have the same size. And by calculating P-Value we find that P-Value=0, which means the effect is significant and we have to accept our hypothesis.\n",
    "\n"
   ]
  },
  {
   "cell_type": "markdown",
   "id": "28228f3b",
   "metadata": {},
   "source": [
    "### 7.3- Hypothesis: \"Hispanic/Latino\" patients have a lower mortality rate"
   ]
  },
  {
   "cell_type": "markdown",
   "id": "29258458",
   "metadata": {},
   "source": [
    "- __Our Hypothesis__: \"Hispanic/Latino\" covied-19 patients have a higher mortality rate than the others.\n",
    "\n",
    "- __Test Statistic__: For a __sub-sample__ which has the size __C(sub-sample)__ and the number of dead patients __D(sub-sample)__, the test statistic of this sub-sample is: mortality rate=__TS(sub-sample)=D(sub-sample)/C(sub-sample)__. where __C(sub-sample)__ in our case is always equal to the count of the \"Hispanic/Latino\" patients in our original cleaned sample.\n",
    "\n",
    "- __Null Hypothesis__: \"Hispanic/Latino\" patients have the same mortality rate of the other patients.\n",
    "\n",
    "- __Computing P-Value__: our test is one-tailed. To compute the P-Value we will generate the distribution of our test statistic __TS__ by repeating taking a random 'sub-sample\" of size __C__ from our original cleaned sample and calculate the corresponding __TS__ of this random \"sub-sample\".\n",
    "After generating the mentioned distribution we can calculate __P-Value = (percentile rank(TSH))/100__, where __TSH__ is the test statistic that corresponds to the \"Hispanic/Latino\" patients in our original cleaned sample, i.e. \"__TSH=TS(\"Hispanic/Latino\" patients in our original cleaned sample)__\"."
   ]
  },
  {
   "cell_type": "code",
   "execution_count": 178,
   "id": "04f0c62a",
   "metadata": {},
   "outputs": [
    {
     "name": "stdout",
     "output_type": "stream",
     "text": [
      "Sample Size (C): 83114\n",
      "TSH: 0.036143128714777296\n"
     ]
    },
    {
     "data": {
      "image/png": "[encoded data removed]",
      "text/plain": [
       "<Figure size 432x288 with 1 Axes>"
      ]
     },
     "metadata": {
      "needs_background": "light"
     },
     "output_type": "display_data"
    }
   ],
   "source": [
    "#calculate the sample size \"C\".\n",
    "C=len(df.loc[df['Race and ethnicity (combined)']=='Hispanic/Latino'])\n",
    "print(\"Sample Size (C): \"+ str(C))\n",
    "\n",
    "#calculate the death count D.\n",
    "D=len(df.loc[(df['Race and ethnicity (combined)']=='Hispanic/Latino')&(df['death_yn']=='Yes')])\n",
    "\n",
    "#calculate TSH \n",
    "TSH=D/C\n",
    "print(\"TSH: \" + str(TSH))\n",
    "\n",
    "#define the array that will contains the TSs of the randomly generated sub_samples\n",
    "sub_samples_TSs=np.ndarray(shape=(1000))\n",
    "for i in range(1000):\n",
    "    #generating a sub-sample of our sample with size c\n",
    "    sub_sample =df.sample(n=C)\n",
    "    #calculate TS for the sub-sample\n",
    "    D_of_sub_sample=len(sub_sample.loc[(sub_sample['death_yn']=='Yes')])\n",
    "    TS_of_sub_sample=D_of_sub_sample/C\n",
    "    sub_samples_TSs[i]=TS_of_sub_sample\n",
    "    \n",
    "temp_df=pd.DataFrame(sub_samples_TSs, columns=['frequency'])\n",
    "temp_df['frequency'].hist(bins=30)\n",
    "plt.show()"
   ]
  },
  {
   "cell_type": "code",
   "execution_count": 181,
   "id": "9e99a1e7",
   "metadata": {},
   "outputs": [
    {
     "data": {
      "image/png": "[encoded data removed]",
      "text/plain": [
       "<Figure size 432x288 with 1 Axes>"
      ]
     },
     "metadata": {
      "needs_background": "light"
     },
     "output_type": "display_data"
    }
   ],
   "source": [
    "count, bins_count= np.histogram(temp_df['frequency'], bins=1000)\n",
    "# finding the PDF of the histogram using count values\n",
    "pdf = count / sum(count)\n",
    "  \n",
    "# using numpy np.cumsum to calculate the CDF\n",
    "# We can also find using the PDF values by looping and adding\n",
    "cdf = np.cumsum(pdf)\n",
    "\n",
    "#plot a vertical line corresponds to mortality rate of \"Hispanic/Latino\" patients\n",
    "plt.vlines(x =TSH ,ymin = 0, ymax = 1, color='red', label='Hispanic/Latino')\n",
    "\n",
    "# plotting PDF\n",
    "#plt.plot(bins_count[1:], pdf, color=\"red\", label=\"PDF\")\n",
    "\n",
    "# plotting CDF\n",
    "plt.plot(bins_count[1:], cdf, label=\"CDF\")\n",
    "plt.legend()\n",
    "plt.xlabel('mortality rate')\n",
    "plt.ylabel('probability')\n",
    "plt.grid()"
   ]
  },
  {
   "cell_type": "code",
   "execution_count": 242,
   "id": "0f3c1cdb",
   "metadata": {},
   "outputs": [
    {
     "name": "stdout",
     "output_type": "stream",
     "text": [
      "\n",
      "Percetile of 'Hispanic/Latino' patients mortality rate  :  0.0\n",
      "\n",
      "P-Value of 'Hispanic/Latino' patients mortality rate  :  0.0\n"
     ]
    }
   ],
   "source": [
    "print (\"\\nPercetile of 'Hispanic/Latino' patients mortality rate  : \", stats.percentileofscore(tem_df['frequency'], TSH))\n",
    "p_value=(stats.percentileofscore(tem_df['frequency'], TSH))/100\n",
    "print (\"\\nP-Value of 'Hispanic/Latino' patients mortality rate  : \",p_value)"
   ]
  },
  {
   "cell_type": "markdown",
   "id": "4b688e1c",
   "metadata": {},
   "source": [
    "In the figure above we can see that the test statistic that corresponds to the \"Hispanic/Latino\" patients in our sample (TSH) is far away from the distribution of the test statistics (TS) of the samples that have the same size. And by calculating P-Value we find that P-Value=0, which means the effect is significant and we have to accept our hypothesis."
   ]
  },
  {
   "cell_type": "markdown",
   "id": "2e833df2",
   "metadata": {},
   "source": [
    "### 7.4- Hypothesis: Patients who have medical conditions have a higher mortality rate"
   ]
  },
  {
   "cell_type": "markdown",
   "id": "68e06ade",
   "metadata": {},
   "source": [
    "- __Our Hypothesis__: covide-19 patients who have medical conditions have a higher mortality rate than the others.\n",
    "\n",
    "- __Test Statistic__: For a __sub-sample__ which has the size __C(sub-sample)__ and the number of dead patients __D(sub-sample)__, the test statistic of this sub-sample is: mortality rate=__TS(sub-sample)=D(sub-sample)/C(sub-sample)__. where __C(sub-sample)__ in our case is always equal to the count of the covide-19 patients who have medical conditions in our original cleaned sample.\n",
    "\n",
    "- __Null Hypothesis__: covide-19 patients who have medical conditions have the same mortality rate of the other patients.\n",
    "\n",
    "- __Computing P-Value__: our test is one-tailed. To compute the P-Value we will generate the distribution of our test statistic __TS__ by repeating taking a random 'sub-sample\" of size __C__ from our original cleaned sample and calculate the corresponding __TS__ of this random \"sub-sample\".\n",
    "After generating the mentioned distribution we can calculate __P-Value = (100 - percentile rank(TSH))/100__, where __TSH__ is the test statistic that corresponds to the covide-19 patients who have medical conditions in our original cleaned sample, i.e. \"__TSH=TS(the patients who have medical conditions in our original cleaned sample)__\"."
   ]
  },
  {
   "cell_type": "code",
   "execution_count": 182,
   "id": "142950c4",
   "metadata": {},
   "outputs": [
    {
     "name": "stdout",
     "output_type": "stream",
     "text": [
      "Sample Size (C): 178853\n",
      "TSH: 0.09527377231581242\n"
     ]
    },
    {
     "data": {
      "image/png": "[encoded data removed]",
      "text/plain": [
       "<Figure size 432x288 with 1 Axes>"
      ]
     },
     "metadata": {
      "needs_background": "light"
     },
     "output_type": "display_data"
    }
   ],
   "source": [
    "#calculate the sample size \"C\".\n",
    "C=len(df.loc[df['medcond_yn']=='Yes'])\n",
    "print(\"Sample Size (C): \"+ str(C))\n",
    "\n",
    "#calculate the death count D.\n",
    "D=len(df.loc[(df['medcond_yn']=='Yes')&(df['death_yn']=='Yes')])\n",
    "\n",
    "#calculate TSH \n",
    "TSH=D/C\n",
    "print(\"TSH: \" + str(TSH))\n",
    "\n",
    "#define the array that will contains the TSs of the randomly generated sub_samples\n",
    "sub_samples_TSs=np.ndarray(shape=(1000))\n",
    "for i in range(1000):\n",
    "    #generating a sub-sample of our sample with size c\n",
    "    sub_sample =df.sample(n=C)\n",
    "    #calculate TS for the sub-sample\n",
    "    D_of_sub_sample=len(sub_sample.loc[(sub_sample['death_yn']=='Yes')])\n",
    "    TS_of_sub_sample=D_of_sub_sample/C\n",
    "    sub_samples_TSs[i]=TS_of_sub_sample\n",
    "    \n",
    "temp_df=pd.DataFrame(sub_samples_TSs, columns=['frequency'])\n",
    "temp_df['frequency'].hist(bins=30)\n",
    "plt.show()"
   ]
  },
  {
   "cell_type": "code",
   "execution_count": 184,
   "id": "e6beb630",
   "metadata": {},
   "outputs": [
    {
     "data": {
      "text/plain": [
       "<matplotlib.legend.Legend at 0x2117349fa90>"
      ]
     },
     "execution_count": 184,
     "metadata": {},
     "output_type": "execute_result"
    },
    {
     "data": {
      "image/png": "[encoded data removed]",
      "text/plain": [
       "<Figure size 432x288 with 1 Axes>"
      ]
     },
     "metadata": {
      "needs_background": "light"
     },
     "output_type": "display_data"
    }
   ],
   "source": [
    "count, bins_count= np.histogram(temp_df['frequency'], bins=1000)\n",
    "# finding the PDF of the histogram using count values\n",
    "pdf = count / sum(count)\n",
    "  \n",
    "# using numpy np.cumsum to calculate the CDF\n",
    "# We can also find using the PDF values by looping and adding\n",
    "cdf = np.cumsum(pdf)\n",
    "\n",
    "#plot a vertical line corresponds to mortality rate of the patients who have medical conditions\n",
    "plt.vlines(x =TSH ,ymin = 0, ymax = 1, color='red', label='Patients with Medical Conditions')\n",
    "\n",
    "# plotting PDF\n",
    "#plt.plot(bins_count[1:], pdf, color=\"red\", label=\"PDF\")\n",
    "\n",
    "# plotting CDF\n",
    "plt.plot(bins_count[1:], cdf, label=\"CDF\")\n",
    "plt.grid()\n",
    "plt.xlabel('mortality rate')\n",
    "plt.ylabel('probability')\n",
    "plt.legend()"
   ]
  },
  {
   "cell_type": "code",
   "execution_count": 239,
   "id": "b8ae7d96",
   "metadata": {},
   "outputs": [
    {
     "name": "stdout",
     "output_type": "stream",
     "text": [
      "\n",
      "Percetile of the patients who have medical conditions mortality rate  :  100.0\n",
      "\n",
      "P-Value of the patients who have medical conditions mortality rate  :  0.0\n"
     ]
    }
   ],
   "source": [
    "print (\"\\nPercetile of the patients who have medical conditions mortality rate  : \", stats.percentileofscore(tem_df['frequency'], TSH))\n",
    "p_value=(100-stats.percentileofscore(tem_df['frequency'], TSH))/100\n",
    "print (\"\\nP-Value of the patients who have medical conditions mortality rate  : \",p_value)"
   ]
  },
  {
   "cell_type": "markdown",
   "id": "fd62998e",
   "metadata": {},
   "source": [
    "### 7.5- Hypothesis: Hospitalized  patients have a higher mortality rate"
   ]
  },
  {
   "cell_type": "markdown",
   "id": "b9db9220",
   "metadata": {},
   "source": [
    "- __Our Hypothesis__: covied-19 patients who have been hospitalized have a higher mortality rate than the others.\n",
    "\n",
    "- __Test Statistic__: For a __sub-sample__ which has the size __C(sub-sample)__ and the number of dead patients __D(sub-sample)__ the test statistic of this sub-sample is: mortality rate=__TS(sub-sample)=D(sub-sample)/C(sub-sample)__. where __C(sub-sample)__ in our case is always equal to the count of the patients who have been hospitalized in our original cleaned sample.\n",
    "\n",
    "- __Null Hypothesis__: patients who have been hospitalized have the same mortality rate of the other patients.\n",
    "\n",
    "- __Computing P-Value__: our test is one-tailed. To compute the P-Value we will generate the distribution of our test statistic __TS__ by repeating taking a random 'sub-sample\" of size __C__ from our original cleaned sample and calculate the corresponding __TS__ of this random \"sub-sample\".\n",
    "After generating the mentioned distribution we can calculate __P-Value = (100 - percentile rank(TSH))/100__, where __TSH__ is the test statistic that corresponds to the patients who have been hospitalized in our original cleaned sample, i.e. \"__TSH=TS(patients who have been hospitalized in our original cleaned sample)__\"."
   ]
  },
  {
   "cell_type": "code",
   "execution_count": 185,
   "id": "7473d080",
   "metadata": {},
   "outputs": [
    {
     "name": "stdout",
     "output_type": "stream",
     "text": [
      "Sample Size: 57533\n",
      "TSH: 0.2787617541237203\n"
     ]
    },
    {
     "data": {
      "image/png": "[encoded data removed]",
      "text/plain": [
       "<Figure size 432x288 with 1 Axes>"
      ]
     },
     "metadata": {
      "needs_background": "light"
     },
     "output_type": "display_data"
    }
   ],
   "source": [
    "#calculate the needed sample size \"C\".\n",
    "C=len(df.loc[df['hosp_yn']=='Yes'])\n",
    "print(\"Sample Size: \"+ str(C))\n",
    "\n",
    "#calculate the death count D.\n",
    "D=len(df.loc[(df['hosp_yn']=='Yes')&(df['death_yn']=='Yes')])\n",
    "\n",
    "#calculate TSH \n",
    "TSH=D/C\n",
    "print(\"TSH: \" + str(TSH))\n",
    "\n",
    "#define the array that will contains the TSs of the randomly generated sub_samples\n",
    "sub_samples_TSs=np.ndarray(shape=(1000))\n",
    "for i in range(1000):\n",
    "    #generating a sub-sample of our sample with size c\n",
    "    sub_sample =df.sample(n=C)\n",
    "    #calculate TS for the sub-sample\n",
    "    D_of_sub_sample=len(sub_sample.loc[(sub_sample['death_yn']=='Yes')])\n",
    "    TS_of_sub_sample=D_of_sub_sample/C\n",
    "    sub_samples_TSs[i]=TS_of_sub_sample\n",
    "    \n",
    "tem_df=pd.DataFrame(sub_samples_TSs, columns=['frequency'])\n",
    "tem_df['frequency'].hist(bins=30)\n",
    "plt.show()"
   ]
  },
  {
   "cell_type": "code",
   "execution_count": 187,
   "id": "13221e8c",
   "metadata": {},
   "outputs": [
    {
     "data": {
      "text/plain": [
       "<matplotlib.legend.Legend at 0x211736e21c0>"
      ]
     },
     "execution_count": 187,
     "metadata": {},
     "output_type": "execute_result"
    },
    {
     "data": {
      "image/png": "[encoded data removed]",
      "text/plain": [
       "<Figure size 432x288 with 1 Axes>"
      ]
     },
     "metadata": {
      "needs_background": "light"
     },
     "output_type": "display_data"
    }
   ],
   "source": [
    "count, bins_count= np.histogram(tem_df['frequency'], bins=1000)\n",
    "# finding the PDF of the histogram using count values\n",
    "pdf = count / sum(count)\n",
    "  \n",
    "# using numpy np.cumsum to calculate the CDF\n",
    "# We can also find using the PDF values by looping and adding\n",
    "cdf = np.cumsum(pdf)\n",
    "\n",
    "#plot a vertical line corresponds to mortality rate of the patients who have medical conditions\n",
    "plt.vlines(x =TSH ,ymin = 0, ymax = 1, color='red', label='Patients who have been hospitalized')\n",
    "\n",
    "# plotting PDF\n",
    "#plt.plot(bins_count[1:], pdf, color=\"red\", label=\"PDF\")\n",
    "\n",
    "# plotting CDF\n",
    "plt.plot(bins_count[1:], cdf, label=\"CDF\")\n",
    "plt.grid()\n",
    "plt.xlabel('mortality rate')\n",
    "plt.ylabel('probability')\n",
    "plt.legend()"
   ]
  },
  {
   "cell_type": "code",
   "execution_count": 230,
   "id": "475da7a2",
   "metadata": {},
   "outputs": [
    {
     "name": "stdout",
     "output_type": "stream",
     "text": [
      "\n",
      "Percetile of the patients who have been hospitalized mortality rate  :  100.0\n",
      "\n",
      "P-Value of the patients who have been hospitalized mortality rate  :  0.0\n"
     ]
    }
   ],
   "source": [
    "print (\"\\nPercetile of the patients who have been hospitalized mortality rate  : \", stats.percentileofscore(tem_df['frequency'], TSH))\n",
    "p_value=(100-stats.percentileofscore(tem_df['frequency'], TSH))/100\n",
    "print (\"\\nP-Value of the patients who have been hospitalized mortality rate  : \",p_value)"
   ]
  },
  {
   "cell_type": "markdown",
   "id": "e8873e4a",
   "metadata": {},
   "source": [
    "In the figure above we can see that the test statistic that corresponds to the patients who have been hospitalized in our sample (TSH) is far away from the distribution of the test statistics (TS) of the samples that have the same size. And by calculating P-Value we find that P-Value=0, which means the effect is significant and we have to accept our hypothesis."
   ]
  },
  {
   "cell_type": "markdown",
   "id": "ebee0ce8",
   "metadata": {},
   "source": [
    "### 7.6- Hypothesis: Patients who have been admitted  to ICU   have a higher mortality rate."
   ]
  },
  {
   "cell_type": "markdown",
   "id": "de49c31f",
   "metadata": {},
   "source": [
    "- __Our Hypothesis__: covied-19 patients who have been admitted to ICU have a higher mortality rate than the others.\n",
    "\n",
    "- __Test Statistic__: For a __sub-sample__ which has the size __C(sub-sample)__ and the number of dead patients __D(sub-sample)__ the test statistic of this sub-sample is: mortality rate=__TS(sub-sample)=D(sub-sample)/C(sub-sample)__. where __C(sub-sample)__ in our case is always equal to the count of the patients who have been admitted to ICU in our original cleaned sample.\n",
    "\n",
    "- __Null Hypothesis__: patients who have been admitted to ICU have the same mortality rate of the other patients.\n",
    "\n",
    "- __Computing P-Value__: our test is one-tailed. To compute the P-Value we will generate the distribution of our test statistic __TS__ by repeating taking a random 'sub-sample\" of size __C__ from our original cleaned sample and calculate the corresponding __TS__ of this random \"sub-sample\".\n",
    "After generating the mentioned distribution we can calculate __P-Value = (100-percentile rank(TSH))/100__, where __TSH__ is the test statistic that corresponds to the patients who have been admitted to ICU in our original cleaned sample, i.e. \"__TSH=TS(patients who have been admitted to ICU in our original cleaned sample)__\"."
   ]
  },
  {
   "cell_type": "code",
   "execution_count": 190,
   "id": "e31f47be",
   "metadata": {},
   "outputs": [
    {
     "name": "stdout",
     "output_type": "stream",
     "text": [
      "Sample Size: 20429\n",
      "TSH: 0.5187233834255225\n"
     ]
    },
    {
     "data": {
      "image/png": "[encoded data removed]",
      "text/plain": [
       "<Figure size 432x288 with 1 Axes>"
      ]
     },
     "metadata": {
      "needs_background": "light"
     },
     "output_type": "display_data"
    }
   ],
   "source": [
    "#calculate the needed sample size \"C\".\n",
    "C=len(df.loc[df['icu_yn']=='Yes'])\n",
    "print(\"Sample Size: \"+ str(C))\n",
    "\n",
    "#calculate the death count D.\n",
    "D=len(df.loc[(df['icu_yn']=='Yes')&(df['death_yn']=='Yes')])\n",
    "\n",
    "#calculate TSH \n",
    "TSH=D/C\n",
    "print(\"TSH: \" + str(TSH))\n",
    "\n",
    "#define the array that will contains the TSs of the randomly generated sub_samples\n",
    "sub_samples_TSs=np.ndarray(shape=(1000))\n",
    "\n",
    "for i in range(1000):\n",
    "    #generating a sub-sample of our sample with size c\n",
    "    sub_sample =df.sample(n=C)\n",
    "    #calculate TS for the sub-sample\n",
    "    D_of_sub_sample=len(sub_sample.loc[(sub_sample['death_yn']=='Yes')])\n",
    "    TS_of_sub_sample=D_of_sub_sample/C\n",
    "    sub_samples_TSs[i]=TS_of_sub_sample\n",
    "    \n",
    "temp_df=pd.DataFrame(sub_samples_TSs, columns=['frequency'])\n",
    "temp_df['frequency'].hist(bins=30)\n",
    "plt.show()"
   ]
  },
  {
   "cell_type": "code",
   "execution_count": 191,
   "id": "feafc25e",
   "metadata": {},
   "outputs": [
    {
     "data": {
      "text/plain": [
       "<matplotlib.legend.Legend at 0x2114479c460>"
      ]
     },
     "execution_count": 191,
     "metadata": {},
     "output_type": "execute_result"
    },
    {
     "data": {
      "image/png": "[encoded data removed]",
      "text/plain": [
       "<Figure size 432x288 with 1 Axes>"
      ]
     },
     "metadata": {
      "needs_background": "light"
     },
     "output_type": "display_data"
    }
   ],
   "source": [
    "count, bins_count= np.histogram(temp_df['frequency'], bins=1000)\n",
    "# finding the PDF of the histogram using count values\n",
    "pdf = count / sum(count)\n",
    "  \n",
    "# using numpy np.cumsum to calculate the CDF\n",
    "# We can also find using the PDF values by looping and adding\n",
    "cdf = np.cumsum(pdf)\n",
    "\n",
    "#plot a vertical line corresponds to mortality rate of the patients who have been admited in ICU\n",
    "plt.vlines(x =TSH ,ymin = 0, ymax = 1, color='red', label='Patients who have been admited in ICU')\n",
    "\n",
    "# plotting PDF\n",
    "#plt.plot(bins_count[1:], pdf, color=\"red\", label=\"PDF\")\n",
    "\n",
    "# plotting CDF\n",
    "plt.plot(bins_count[1:], cdf, label=\"CDF\")\n",
    "plt.grid()\n",
    "plt.xlabel('mortality rate')\n",
    "plt.ylabel('probability')\n",
    "plt.legend()"
   ]
  },
  {
   "cell_type": "code",
   "execution_count": 234,
   "id": "95f471fa",
   "metadata": {},
   "outputs": [
    {
     "name": "stdout",
     "output_type": "stream",
     "text": [
      "\n",
      "Percetile of the patients who have been admited in ICU mortality rate  :  100.0\n",
      "\n",
      "P-Value of the patients who have been admited in ICU mortality rate  :  0.0\n"
     ]
    }
   ],
   "source": [
    "print (\"\\nPercetile of the patients who have been admited in ICU mortality rate  : \", stats.percentileofscore(tem_df['frequency'], TSH))\n",
    "p_value=(100-stats.percentileofscore(tem_df['frequency'], TSH))/100\n",
    "print (\"\\nP-Value of the patients who have been admited in ICU mortality rate  : \",p_value)"
   ]
  },
  {
   "cell_type": "markdown",
   "id": "a64b361a",
   "metadata": {},
   "source": [
    "In the figure above we can see that the test statistic that corresponds to the patients who have been admitted to ICU in our sample (TSH) is far away from the distribution of the test statistics (TS) of the samples that have the same size. And by calculating P-Value we find that P-Value=0, which means the effect is significant and we have to accept our hypothesis."
   ]
  },
  {
   "cell_type": "markdown",
   "id": "cc9d9bd4",
   "metadata": {},
   "source": [
    "\n",
    "\n",
    "Finally, we have to mention that, in all the six hypothesis tests above, in order to calculate the P-Value, we have generated the distribution of the test statistic TS. \n",
    "But it was possible to get rid of this generation process of the distribution, by depending on the central limit theorem. i.e. our test statistic TS in all the six hypothesis represents the mortality rate in the test sample which is actually the mean of the binomial variable death_yn (if we considered this variable a binomial one with 0 and 1 values).\n",
    "Accordingly, TS is normally distributed with a mean equals to the mean of our final cleaned sample and a standard deviation equals to the standard deviation of our final cleaned sample divided by the squared root of the test sample size.\n"
   ]
  },
  {
   "cell_type": "markdown",
   "id": "7bbac301",
   "metadata": {},
   "source": [
    "## 8- Limitations"
   ]
  },
  {
   "cell_type": "markdown",
   "id": "a5f6dfe3",
   "metadata": {},
   "source": [
    "The limitations of our study are:\n",
    "1. The first limitation: there are a lot of covid-19 patients who don't have symptoms, which means that they are less likely to appear in our original CDC data and their cases are less likely to be confirmed. And this is a big issue, because it can cause a considerable sampling bias. For example, it might cause increasing the mortality rate in the sample. In addition to this issue there are other limitation of our original CDC data as mentioned on CDC [website](https://www.cdc.gov/coronavirus/2019-ncov/covid-data/faq-surveillance.html). \n",
    "2. The second limitation: in our study we ignored the unknown and missing value which also might bias our final cleaned sample.\n",
    "3. The third limitation: despite of the fact that we have some highly correlated features (like icu_yn and hosp_yn), we didn't study the pairwise relationships between the features because this issue was not one of the goals of this study.\n"
   ]
  },
  {
   "cell_type": "markdown",
   "id": "ece392cb",
   "metadata": {},
   "source": [
    "## 9- Conclusion and Future Work"
   ]
  },
  {
   "cell_type": "markdown",
   "id": "8fcd834e",
   "metadata": {},
   "source": [
    "Despite the limitations of this study, this report concludes that the mortality rate is significantly related to the age, sex, race and ethnicity, patient hospitalization and patient admission to ICU.\n",
    "Our future work is studying the pairwise relationships between the features. And after that we might apply some feature engineering, for example we have to merge the hierarchically related features into one feature, i.e. hosp_yn and icu_yn must be merged in one feature. After that we think we can build a decision tree based approach to predict the death_yn of a patient depending on the resulting features. But here we have to worry about the limitations that mentioned in the previous section, so collecting another data from the population in a more random and a more accurate manner will provide us with a more accurate and a more unbiased prediction than what we expect to get by using the current CDC data."
   ]
  }
 ],
 "metadata": {
  "kernelspec": {
   "display_name": "Python 3 (ipykernel)",
   "language": "python",
   "name": "python3"
  },
  "language_info": {
   "codemirror_mode": {
    "name": "ipython",
    "version": 3
   },
   "file_extension": ".py",
   "mimetype": "text/x-python",
   "name": "python",
   "nbconvert_exporter": "python",
   "pygments_lexer": "ipython3",
   "version": "3.8.11"
  }
 },
 "nbformat": 4,
 "nbformat_minor": 5
}
